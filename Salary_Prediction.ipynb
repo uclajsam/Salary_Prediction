{
 "cells": [
  {
   "cell_type": "markdown",
   "metadata": {
    "hide_input": true
   },
   "source": [
    "# Salary Predictions Based on Job Descriptions"
   ]
  },
  {
   "cell_type": "markdown",
   "metadata": {},
   "source": [
    "# Part 1 - DEFINE"
   ]
  },
  {
   "cell_type": "markdown",
   "metadata": {},
   "source": [
    "The purpose of this project aims to predict future job salaries based on a dataset of one million observations of current job postings.  Python will be used for analysis."
   ]
  },
  {
   "cell_type": "code",
   "execution_count": 1,
   "metadata": {
    "ExecuteTime": {
     "end_time": "2020-06-28T20:37:14.398152Z",
     "start_time": "2020-06-28T20:36:57.331212Z"
    }
   },
   "outputs": [],
   "source": [
    "# Importing libraries\n",
    "import pandas as pd\n",
    "import numpy as np\n",
    "import matplotlib.pyplot as plt\n",
    "import seaborn as sns\n",
    "\n",
    "__author__ = \"John Samson\"\n",
    "__email__ = \"samson.john@gmail.com\""
   ]
  },
  {
   "cell_type": "markdown",
   "metadata": {},
   "source": [
    "## Part 2 - DISCOVER"
   ]
  },
  {
   "cell_type": "markdown",
   "metadata": {},
   "source": [
    "### Loading the data"
   ]
  },
  {
   "cell_type": "code",
   "execution_count": 2,
   "metadata": {
    "ExecuteTime": {
     "end_time": "2020-06-28T20:38:03.229832Z",
     "start_time": "2020-06-28T20:37:56.540694Z"
    }
   },
   "outputs": [],
   "source": [
    "# Loading files into pandas dataframe\n",
    "df_train_features = pd.read_csv('train_features.csv')\n",
    "df_train_target = pd.read_csv('train_salaries.csv')\n",
    "df_test_features = pd.read_csv('test_features.csv')"
   ]
  },
  {
   "cell_type": "markdown",
   "metadata": {},
   "source": [
    "### Examining and Cleaning the Data "
   ]
  },
  {
   "cell_type": "code",
   "execution_count": 3,
   "metadata": {
    "ExecuteTime": {
     "end_time": "2020-06-28T20:38:06.304294Z",
     "start_time": "2020-06-28T20:38:06.288663Z"
    }
   },
   "outputs": [],
   "source": [
    "# Defining a function for initial data analysis for project\n",
    "def examine_df(df):\n",
    "    print(df.info())\n",
    "    \n",
    "    # Return a few rows\n",
    "    print('\\n')\n",
    "    print('First five rows')\n",
    "    print('--------------------')\n",
    "    print(df.head())\n",
    "    \n",
    "    # Return descriptive information of the dataframe\n",
    "    print('\\n\\n Descriptive Information for Numerical Variables')\n",
    "    print('--------------------')\n",
    "    print(df.describe(include = [np.number]))\n",
    "    print('\\n\\n Descriptive Information for Categorical Variables')\n",
    "    print('--------------------')\n",
    "    print(df.describe(include = ['O']))\n",
    "    \n",
    "    # Check for duplicates\n",
    "    print('\\n\\n Number of Duplicate Values = ', df.duplicated().sum())"
   ]
  },
  {
   "cell_type": "code",
   "execution_count": 4,
   "metadata": {
    "ExecuteTime": {
     "end_time": "2020-06-28T20:38:18.130675Z",
     "start_time": "2020-06-28T20:38:09.977148Z"
    }
   },
   "outputs": [
    {
     "name": "stdout",
     "output_type": "stream",
     "text": [
      "<class 'pandas.core.frame.DataFrame'>\n",
      "RangeIndex: 1000000 entries, 0 to 999999\n",
      "Data columns (total 8 columns):\n",
      " #   Column               Non-Null Count    Dtype \n",
      "---  ------               --------------    ----- \n",
      " 0   jobId                1000000 non-null  object\n",
      " 1   companyId            1000000 non-null  object\n",
      " 2   jobType              1000000 non-null  object\n",
      " 3   degree               1000000 non-null  object\n",
      " 4   major                1000000 non-null  object\n",
      " 5   industry             1000000 non-null  object\n",
      " 6   yearsExperience      1000000 non-null  int64 \n",
      " 7   milesFromMetropolis  1000000 non-null  int64 \n",
      "dtypes: int64(2), object(6)\n",
      "memory usage: 61.0+ MB\n",
      "None\n",
      "\n",
      "\n",
      "First five rows\n",
      "--------------------\n",
      "              jobId companyId         jobType       degree      major  \\\n",
      "0  JOB1362684407687    COMP37             CFO      MASTERS       MATH   \n",
      "1  JOB1362684407688    COMP19             CEO  HIGH_SCHOOL       NONE   \n",
      "2  JOB1362684407689    COMP52  VICE_PRESIDENT     DOCTORAL    PHYSICS   \n",
      "3  JOB1362684407690    COMP38         MANAGER     DOCTORAL  CHEMISTRY   \n",
      "4  JOB1362684407691     COMP7  VICE_PRESIDENT    BACHELORS    PHYSICS   \n",
      "\n",
      "  industry  yearsExperience  milesFromMetropolis  \n",
      "0   HEALTH               10                   83  \n",
      "1      WEB                3                   73  \n",
      "2   HEALTH               10                   38  \n",
      "3     AUTO                8                   17  \n",
      "4  FINANCE                8                   16  \n",
      "\n",
      "\n",
      " Descriptive Information for Numerical Variables\n",
      "--------------------\n",
      "       yearsExperience  milesFromMetropolis\n",
      "count   1000000.000000       1000000.000000\n",
      "mean         11.992386            49.529260\n",
      "std           7.212391            28.877733\n",
      "min           0.000000             0.000000\n",
      "25%           6.000000            25.000000\n",
      "50%          12.000000            50.000000\n",
      "75%          18.000000            75.000000\n",
      "max          24.000000            99.000000\n",
      "\n",
      "\n",
      " Descriptive Information for Categorical Variables\n",
      "--------------------\n",
      "                   jobId companyId  jobType       degree    major industry\n",
      "count            1000000   1000000  1000000      1000000  1000000  1000000\n",
      "unique           1000000        63        8            5        9        7\n",
      "top     JOB1362685250023    COMP39   SENIOR  HIGH_SCHOOL     NONE      WEB\n",
      "freq                   1     16193   125886       236976   532355   143206\n",
      "\n",
      "\n",
      " Number of Duplicate Values =  0\n"
     ]
    }
   ],
   "source": [
    "examine_df(df_train_features)"
   ]
  },
  {
   "cell_type": "code",
   "execution_count": 5,
   "metadata": {
    "ExecuteTime": {
     "end_time": "2020-06-26T19:24:02.786263Z",
     "start_time": "2020-06-26T19:23:58.480216Z"
    }
   },
   "outputs": [
    {
     "name": "stdout",
     "output_type": "stream",
     "text": [
      "<class 'pandas.core.frame.DataFrame'>\n",
      "RangeIndex: 1000000 entries, 0 to 999999\n",
      "Data columns (total 2 columns):\n",
      " #   Column  Non-Null Count    Dtype \n",
      "---  ------  --------------    ----- \n",
      " 0   jobId   1000000 non-null  object\n",
      " 1   salary  1000000 non-null  int64 \n",
      "dtypes: int64(1), object(1)\n",
      "memory usage: 15.3+ MB\n",
      "None\n",
      "\n",
      "\n",
      "First five rows\n",
      "--------------------\n",
      "              jobId  salary\n",
      "0  JOB1362684407687     130\n",
      "1  JOB1362684407688     101\n",
      "2  JOB1362684407689     137\n",
      "3  JOB1362684407690     142\n",
      "4  JOB1362684407691     163\n",
      "\n",
      "\n",
      " Descriptive Information for Numerical Variables\n",
      "--------------------\n",
      "               salary\n",
      "count  1000000.000000\n",
      "mean       116.061818\n",
      "std         38.717936\n",
      "min          0.000000\n",
      "25%         88.000000\n",
      "50%        114.000000\n",
      "75%        141.000000\n",
      "max        301.000000\n",
      "\n",
      "\n",
      " Descriptive Information for Categorical Variables\n",
      "--------------------\n",
      "                   jobId\n",
      "count            1000000\n",
      "unique           1000000\n",
      "top     JOB1362684680454\n",
      "freq                   1\n",
      "\n",
      "\n",
      " Number of Duplicate Values =  0\n"
     ]
    }
   ],
   "source": [
    "examine_df(df_train_target)"
   ]
  },
  {
   "cell_type": "markdown",
   "metadata": {},
   "source": [
    "**Observation:** \n",
    "\n",
    "- There are no null values and no duplicates for the two 'train' dataframes.  \n",
    "- All variables seem reasonable except for 'salary' (check for potential outliers)"
   ]
  },
  {
   "cell_type": "code",
   "execution_count": 6,
   "metadata": {
    "ExecuteTime": {
     "end_time": "2020-06-26T19:24:09.454908Z",
     "start_time": "2020-06-26T19:24:06.941428Z"
    }
   },
   "outputs": [
    {
     "data": {
      "text/html": [
       "<div>\n",
       "<style scoped>\n",
       "    .dataframe tbody tr th:only-of-type {\n",
       "        vertical-align: middle;\n",
       "    }\n",
       "\n",
       "    .dataframe tbody tr th {\n",
       "        vertical-align: top;\n",
       "    }\n",
       "\n",
       "    .dataframe thead th {\n",
       "        text-align: right;\n",
       "    }\n",
       "</style>\n",
       "<table border=\"1\" class=\"dataframe\">\n",
       "  <thead>\n",
       "    <tr style=\"text-align: right;\">\n",
       "      <th></th>\n",
       "      <th>job_id</th>\n",
       "      <th>company_id</th>\n",
       "      <th>job_type</th>\n",
       "      <th>degree</th>\n",
       "      <th>major</th>\n",
       "      <th>industry</th>\n",
       "      <th>years_experience</th>\n",
       "      <th>miles_from_metropolis</th>\n",
       "      <th>salary</th>\n",
       "    </tr>\n",
       "  </thead>\n",
       "  <tbody>\n",
       "    <tr>\n",
       "      <th>0</th>\n",
       "      <td>JOB1362684407687</td>\n",
       "      <td>COMP37</td>\n",
       "      <td>CFO</td>\n",
       "      <td>MASTERS</td>\n",
       "      <td>MATH</td>\n",
       "      <td>HEALTH</td>\n",
       "      <td>10</td>\n",
       "      <td>83</td>\n",
       "      <td>130</td>\n",
       "    </tr>\n",
       "    <tr>\n",
       "      <th>1</th>\n",
       "      <td>JOB1362684407688</td>\n",
       "      <td>COMP19</td>\n",
       "      <td>CEO</td>\n",
       "      <td>HIGH_SCHOOL</td>\n",
       "      <td>NONE</td>\n",
       "      <td>WEB</td>\n",
       "      <td>3</td>\n",
       "      <td>73</td>\n",
       "      <td>101</td>\n",
       "    </tr>\n",
       "    <tr>\n",
       "      <th>2</th>\n",
       "      <td>JOB1362684407689</td>\n",
       "      <td>COMP52</td>\n",
       "      <td>VICE_PRESIDENT</td>\n",
       "      <td>DOCTORAL</td>\n",
       "      <td>PHYSICS</td>\n",
       "      <td>HEALTH</td>\n",
       "      <td>10</td>\n",
       "      <td>38</td>\n",
       "      <td>137</td>\n",
       "    </tr>\n",
       "    <tr>\n",
       "      <th>3</th>\n",
       "      <td>JOB1362684407690</td>\n",
       "      <td>COMP38</td>\n",
       "      <td>MANAGER</td>\n",
       "      <td>DOCTORAL</td>\n",
       "      <td>CHEMISTRY</td>\n",
       "      <td>AUTO</td>\n",
       "      <td>8</td>\n",
       "      <td>17</td>\n",
       "      <td>142</td>\n",
       "    </tr>\n",
       "    <tr>\n",
       "      <th>4</th>\n",
       "      <td>JOB1362684407691</td>\n",
       "      <td>COMP7</td>\n",
       "      <td>VICE_PRESIDENT</td>\n",
       "      <td>BACHELORS</td>\n",
       "      <td>PHYSICS</td>\n",
       "      <td>FINANCE</td>\n",
       "      <td>8</td>\n",
       "      <td>16</td>\n",
       "      <td>163</td>\n",
       "    </tr>\n",
       "  </tbody>\n",
       "</table>\n",
       "</div>"
      ],
      "text/plain": [
       "             job_id company_id        job_type       degree      major  \\\n",
       "0  JOB1362684407687     COMP37             CFO      MASTERS       MATH   \n",
       "1  JOB1362684407688     COMP19             CEO  HIGH_SCHOOL       NONE   \n",
       "2  JOB1362684407689     COMP52  VICE_PRESIDENT     DOCTORAL    PHYSICS   \n",
       "3  JOB1362684407690     COMP38         MANAGER     DOCTORAL  CHEMISTRY   \n",
       "4  JOB1362684407691      COMP7  VICE_PRESIDENT    BACHELORS    PHYSICS   \n",
       "\n",
       "  industry  years_experience  miles_from_metropolis  salary  \n",
       "0   HEALTH                10                     83     130  \n",
       "1      WEB                 3                     73     101  \n",
       "2   HEALTH                10                     38     137  \n",
       "3     AUTO                 8                     17     142  \n",
       "4  FINANCE                 8                     16     163  "
      ]
     },
     "execution_count": 6,
     "metadata": {},
     "output_type": "execute_result"
    }
   ],
   "source": [
    "# Merging the training dataframes for further analysis\n",
    "train_df = pd.merge(df_train_features, df_train_target, on = 'jobId')\n",
    "\n",
    "# Renaming columns \n",
    "train_df.rename({'jobId' : 'job_id',\n",
    "                'companyId' : 'company_id',\n",
    "                'jobType' : 'job_type',\n",
    "                'yearsExperience' : 'years_experience',\n",
    "                'milesFromMetropolis' : 'miles_from_metropolis'}, axis = 1, inplace = True)\n",
    "\n",
    "df_test_features.rename({'jobId' : 'job_id',\n",
    "                'companyId' : 'company_id',\n",
    "                'jobType' : 'job_type',\n",
    "                'yearsExperience' : 'years_experience',\n",
    "                'milesFromMetropolis' : 'miles_from_metropolis'}, axis = 1, inplace = True)\n",
    "\n",
    "train_df.head()"
   ]
  },
  {
   "cell_type": "markdown",
   "metadata": {},
   "source": [
    "### Analyzing Outliers"
   ]
  },
  {
   "cell_type": "code",
   "execution_count": 7,
   "metadata": {
    "ExecuteTime": {
     "end_time": "2020-06-26T19:24:11.709154Z",
     "start_time": "2020-06-26T19:24:11.621163Z"
    }
   },
   "outputs": [
    {
     "name": "stdout",
     "output_type": "stream",
     "text": [
      "Lower Outlier Threshold =  8.5\n",
      "Upper Outlier Threshold =  220.5\n"
     ]
    }
   ],
   "source": [
    "# Defining outlier criteria using IQR\n",
    "summary = train_df['salary'].describe()\n",
    "IQR = summary['75%'] - summary['25%']\n",
    "upper_bound = summary['75%'] + 1.5 * IQR\n",
    "lower_bound = summary['25%'] - 1.5 * IQR\n",
    "\n",
    "print('Lower Outlier Threshold = ', lower_bound)\n",
    "print('Upper Outlier Threshold = ', upper_bound)"
   ]
  },
  {
   "cell_type": "code",
   "execution_count": 8,
   "metadata": {
    "ExecuteTime": {
     "end_time": "2020-06-26T19:24:13.433819Z",
     "start_time": "2020-06-26T19:24:13.393846Z"
    }
   },
   "outputs": [
    {
     "name": "stdout",
     "output_type": "stream",
     "text": [
      "Number of rows below lower bound =  5\n",
      "Number of rows above upper bound =  7117\n"
     ]
    }
   ],
   "source": [
    "# Analyzing entries outside outlier threshold\n",
    "print('Number of rows below lower bound = ', train_df[train_df['salary'] < lower_bound].shape[0])\n",
    "print('Number of rows above upper bound = ', train_df[train_df['salary'] > upper_bound].shape[0])"
   ]
  },
  {
   "cell_type": "markdown",
   "metadata": {},
   "source": [
    "**Observation:**\n",
    "\n",
    "Although the percent of rows with outlier salaries is only a small percentage (0.7%) of the entire dataframe, we will analyze the outliers to see which rows should be kept and discarded.  We will analyze outliers based on `job_type`."
   ]
  },
  {
   "cell_type": "code",
   "execution_count": 9,
   "metadata": {
    "ExecuteTime": {
     "end_time": "2020-06-26T19:24:15.229414Z",
     "start_time": "2020-06-26T19:24:15.173412Z"
    }
   },
   "outputs": [
    {
     "data": {
      "text/html": [
       "<div>\n",
       "<style scoped>\n",
       "    .dataframe tbody tr th:only-of-type {\n",
       "        vertical-align: middle;\n",
       "    }\n",
       "\n",
       "    .dataframe tbody tr th {\n",
       "        vertical-align: top;\n",
       "    }\n",
       "\n",
       "    .dataframe thead th {\n",
       "        text-align: right;\n",
       "    }\n",
       "</style>\n",
       "<table border=\"1\" class=\"dataframe\">\n",
       "  <thead>\n",
       "    <tr style=\"text-align: right;\">\n",
       "      <th></th>\n",
       "      <th>job_id</th>\n",
       "      <th>company_id</th>\n",
       "      <th>job_type</th>\n",
       "      <th>degree</th>\n",
       "      <th>major</th>\n",
       "      <th>industry</th>\n",
       "      <th>years_experience</th>\n",
       "      <th>miles_from_metropolis</th>\n",
       "      <th>salary</th>\n",
       "    </tr>\n",
       "  </thead>\n",
       "  <tbody>\n",
       "    <tr>\n",
       "      <th>30559</th>\n",
       "      <td>JOB1362684438246</td>\n",
       "      <td>COMP44</td>\n",
       "      <td>JUNIOR</td>\n",
       "      <td>DOCTORAL</td>\n",
       "      <td>MATH</td>\n",
       "      <td>AUTO</td>\n",
       "      <td>11</td>\n",
       "      <td>7</td>\n",
       "      <td>0</td>\n",
       "    </tr>\n",
       "    <tr>\n",
       "      <th>495984</th>\n",
       "      <td>JOB1362684903671</td>\n",
       "      <td>COMP34</td>\n",
       "      <td>JUNIOR</td>\n",
       "      <td>NONE</td>\n",
       "      <td>NONE</td>\n",
       "      <td>OIL</td>\n",
       "      <td>1</td>\n",
       "      <td>25</td>\n",
       "      <td>0</td>\n",
       "    </tr>\n",
       "    <tr>\n",
       "      <th>652076</th>\n",
       "      <td>JOB1362685059763</td>\n",
       "      <td>COMP25</td>\n",
       "      <td>CTO</td>\n",
       "      <td>HIGH_SCHOOL</td>\n",
       "      <td>NONE</td>\n",
       "      <td>AUTO</td>\n",
       "      <td>6</td>\n",
       "      <td>60</td>\n",
       "      <td>0</td>\n",
       "    </tr>\n",
       "    <tr>\n",
       "      <th>816129</th>\n",
       "      <td>JOB1362685223816</td>\n",
       "      <td>COMP42</td>\n",
       "      <td>MANAGER</td>\n",
       "      <td>DOCTORAL</td>\n",
       "      <td>ENGINEERING</td>\n",
       "      <td>FINANCE</td>\n",
       "      <td>18</td>\n",
       "      <td>6</td>\n",
       "      <td>0</td>\n",
       "    </tr>\n",
       "    <tr>\n",
       "      <th>828156</th>\n",
       "      <td>JOB1362685235843</td>\n",
       "      <td>COMP40</td>\n",
       "      <td>VICE_PRESIDENT</td>\n",
       "      <td>MASTERS</td>\n",
       "      <td>ENGINEERING</td>\n",
       "      <td>WEB</td>\n",
       "      <td>3</td>\n",
       "      <td>29</td>\n",
       "      <td>0</td>\n",
       "    </tr>\n",
       "  </tbody>\n",
       "</table>\n",
       "</div>"
      ],
      "text/plain": [
       "                  job_id company_id        job_type       degree        major  \\\n",
       "30559   JOB1362684438246     COMP44          JUNIOR     DOCTORAL         MATH   \n",
       "495984  JOB1362684903671     COMP34          JUNIOR         NONE         NONE   \n",
       "652076  JOB1362685059763     COMP25             CTO  HIGH_SCHOOL         NONE   \n",
       "816129  JOB1362685223816     COMP42         MANAGER     DOCTORAL  ENGINEERING   \n",
       "828156  JOB1362685235843     COMP40  VICE_PRESIDENT      MASTERS  ENGINEERING   \n",
       "\n",
       "       industry  years_experience  miles_from_metropolis  salary  \n",
       "30559      AUTO                11                      7       0  \n",
       "495984      OIL                 1                     25       0  \n",
       "652076     AUTO                 6                     60       0  \n",
       "816129  FINANCE                18                      6       0  \n",
       "828156      WEB                 3                     29       0  "
      ]
     },
     "execution_count": 9,
     "metadata": {},
     "output_type": "execute_result"
    }
   ],
   "source": [
    "# Lower bound outliers\n",
    "train_df[train_df['salary'] < lower_bound]"
   ]
  },
  {
   "cell_type": "code",
   "execution_count": 10,
   "metadata": {
    "ExecuteTime": {
     "end_time": "2020-06-26T19:24:18.275488Z",
     "start_time": "2020-06-26T19:24:18.227475Z"
    }
   },
   "outputs": [
    {
     "data": {
      "text/plain": [
       "CEO               3227\n",
       "CFO               1496\n",
       "CTO               1488\n",
       "VICE_PRESIDENT     603\n",
       "MANAGER            217\n",
       "SENIOR              66\n",
       "JUNIOR              20\n",
       "Name: job_type, dtype: int64"
      ]
     },
     "execution_count": 10,
     "metadata": {},
     "output_type": "execute_result"
    }
   ],
   "source": [
    "# Upper bound outliers\n",
    "train_df[train_df['salary'] > upper_bound]['job_type'].value_counts()"
   ]
  },
  {
   "cell_type": "code",
   "execution_count": 11,
   "metadata": {
    "ExecuteTime": {
     "end_time": "2020-06-26T19:24:20.189330Z",
     "start_time": "2020-06-26T19:24:20.005338Z"
    }
   },
   "outputs": [
    {
     "data": {
      "text/html": [
       "<div>\n",
       "<style scoped>\n",
       "    .dataframe tbody tr th:only-of-type {\n",
       "        vertical-align: middle;\n",
       "    }\n",
       "\n",
       "    .dataframe tbody tr th {\n",
       "        vertical-align: top;\n",
       "    }\n",
       "\n",
       "    .dataframe thead th {\n",
       "        text-align: right;\n",
       "    }\n",
       "</style>\n",
       "<table border=\"1\" class=\"dataframe\">\n",
       "  <thead>\n",
       "    <tr style=\"text-align: right;\">\n",
       "      <th></th>\n",
       "      <th>job_id</th>\n",
       "      <th>company_id</th>\n",
       "      <th>job_type</th>\n",
       "      <th>degree</th>\n",
       "      <th>major</th>\n",
       "      <th>industry</th>\n",
       "      <th>years_experience</th>\n",
       "      <th>miles_from_metropolis</th>\n",
       "      <th>salary</th>\n",
       "    </tr>\n",
       "  </thead>\n",
       "  <tbody>\n",
       "    <tr>\n",
       "      <th>1222</th>\n",
       "      <td>JOB1362684408909</td>\n",
       "      <td>COMP40</td>\n",
       "      <td>JUNIOR</td>\n",
       "      <td>MASTERS</td>\n",
       "      <td>COMPSCI</td>\n",
       "      <td>OIL</td>\n",
       "      <td>24</td>\n",
       "      <td>5</td>\n",
       "      <td>225</td>\n",
       "    </tr>\n",
       "    <tr>\n",
       "      <th>27710</th>\n",
       "      <td>JOB1362684435397</td>\n",
       "      <td>COMP21</td>\n",
       "      <td>JUNIOR</td>\n",
       "      <td>DOCTORAL</td>\n",
       "      <td>ENGINEERING</td>\n",
       "      <td>OIL</td>\n",
       "      <td>24</td>\n",
       "      <td>3</td>\n",
       "      <td>246</td>\n",
       "    </tr>\n",
       "    <tr>\n",
       "      <th>31355</th>\n",
       "      <td>JOB1362684439042</td>\n",
       "      <td>COMP45</td>\n",
       "      <td>JUNIOR</td>\n",
       "      <td>DOCTORAL</td>\n",
       "      <td>COMPSCI</td>\n",
       "      <td>FINANCE</td>\n",
       "      <td>24</td>\n",
       "      <td>0</td>\n",
       "      <td>225</td>\n",
       "    </tr>\n",
       "    <tr>\n",
       "      <th>100042</th>\n",
       "      <td>JOB1362684507729</td>\n",
       "      <td>COMP17</td>\n",
       "      <td>JUNIOR</td>\n",
       "      <td>DOCTORAL</td>\n",
       "      <td>BUSINESS</td>\n",
       "      <td>FINANCE</td>\n",
       "      <td>23</td>\n",
       "      <td>8</td>\n",
       "      <td>248</td>\n",
       "    </tr>\n",
       "    <tr>\n",
       "      <th>160333</th>\n",
       "      <td>JOB1362684568020</td>\n",
       "      <td>COMP18</td>\n",
       "      <td>JUNIOR</td>\n",
       "      <td>DOCTORAL</td>\n",
       "      <td>BUSINESS</td>\n",
       "      <td>FINANCE</td>\n",
       "      <td>22</td>\n",
       "      <td>3</td>\n",
       "      <td>223</td>\n",
       "    </tr>\n",
       "    <tr>\n",
       "      <th>189582</th>\n",
       "      <td>JOB1362684597269</td>\n",
       "      <td>COMP32</td>\n",
       "      <td>JUNIOR</td>\n",
       "      <td>DOCTORAL</td>\n",
       "      <td>BUSINESS</td>\n",
       "      <td>OIL</td>\n",
       "      <td>24</td>\n",
       "      <td>11</td>\n",
       "      <td>221</td>\n",
       "    </tr>\n",
       "    <tr>\n",
       "      <th>214606</th>\n",
       "      <td>JOB1362684622293</td>\n",
       "      <td>COMP47</td>\n",
       "      <td>JUNIOR</td>\n",
       "      <td>MASTERS</td>\n",
       "      <td>BUSINESS</td>\n",
       "      <td>FINANCE</td>\n",
       "      <td>22</td>\n",
       "      <td>4</td>\n",
       "      <td>222</td>\n",
       "    </tr>\n",
       "    <tr>\n",
       "      <th>303778</th>\n",
       "      <td>JOB1362684711465</td>\n",
       "      <td>COMP51</td>\n",
       "      <td>JUNIOR</td>\n",
       "      <td>MASTERS</td>\n",
       "      <td>ENGINEERING</td>\n",
       "      <td>WEB</td>\n",
       "      <td>24</td>\n",
       "      <td>2</td>\n",
       "      <td>226</td>\n",
       "    </tr>\n",
       "    <tr>\n",
       "      <th>348354</th>\n",
       "      <td>JOB1362684756041</td>\n",
       "      <td>COMP56</td>\n",
       "      <td>JUNIOR</td>\n",
       "      <td>DOCTORAL</td>\n",
       "      <td>ENGINEERING</td>\n",
       "      <td>OIL</td>\n",
       "      <td>23</td>\n",
       "      <td>25</td>\n",
       "      <td>226</td>\n",
       "    </tr>\n",
       "    <tr>\n",
       "      <th>427593</th>\n",
       "      <td>JOB1362684835280</td>\n",
       "      <td>COMP54</td>\n",
       "      <td>JUNIOR</td>\n",
       "      <td>DOCTORAL</td>\n",
       "      <td>ENGINEERING</td>\n",
       "      <td>FINANCE</td>\n",
       "      <td>23</td>\n",
       "      <td>3</td>\n",
       "      <td>221</td>\n",
       "    </tr>\n",
       "    <tr>\n",
       "      <th>500739</th>\n",
       "      <td>JOB1362684908426</td>\n",
       "      <td>COMP40</td>\n",
       "      <td>JUNIOR</td>\n",
       "      <td>DOCTORAL</td>\n",
       "      <td>ENGINEERING</td>\n",
       "      <td>OIL</td>\n",
       "      <td>21</td>\n",
       "      <td>0</td>\n",
       "      <td>227</td>\n",
       "    </tr>\n",
       "    <tr>\n",
       "      <th>627534</th>\n",
       "      <td>JOB1362685035221</td>\n",
       "      <td>COMP5</td>\n",
       "      <td>JUNIOR</td>\n",
       "      <td>DOCTORAL</td>\n",
       "      <td>ENGINEERING</td>\n",
       "      <td>OIL</td>\n",
       "      <td>24</td>\n",
       "      <td>29</td>\n",
       "      <td>230</td>\n",
       "    </tr>\n",
       "    <tr>\n",
       "      <th>645555</th>\n",
       "      <td>JOB1362685053242</td>\n",
       "      <td>COMP36</td>\n",
       "      <td>JUNIOR</td>\n",
       "      <td>DOCTORAL</td>\n",
       "      <td>BUSINESS</td>\n",
       "      <td>FINANCE</td>\n",
       "      <td>24</td>\n",
       "      <td>1</td>\n",
       "      <td>225</td>\n",
       "    </tr>\n",
       "    <tr>\n",
       "      <th>656572</th>\n",
       "      <td>JOB1362685064259</td>\n",
       "      <td>COMP28</td>\n",
       "      <td>JUNIOR</td>\n",
       "      <td>DOCTORAL</td>\n",
       "      <td>BUSINESS</td>\n",
       "      <td>OIL</td>\n",
       "      <td>22</td>\n",
       "      <td>3</td>\n",
       "      <td>222</td>\n",
       "    </tr>\n",
       "    <tr>\n",
       "      <th>685775</th>\n",
       "      <td>JOB1362685093462</td>\n",
       "      <td>COMP38</td>\n",
       "      <td>JUNIOR</td>\n",
       "      <td>BACHELORS</td>\n",
       "      <td>ENGINEERING</td>\n",
       "      <td>OIL</td>\n",
       "      <td>24</td>\n",
       "      <td>13</td>\n",
       "      <td>225</td>\n",
       "    </tr>\n",
       "    <tr>\n",
       "      <th>743326</th>\n",
       "      <td>JOB1362685151013</td>\n",
       "      <td>COMP14</td>\n",
       "      <td>JUNIOR</td>\n",
       "      <td>DOCTORAL</td>\n",
       "      <td>BUSINESS</td>\n",
       "      <td>FINANCE</td>\n",
       "      <td>19</td>\n",
       "      <td>0</td>\n",
       "      <td>236</td>\n",
       "    </tr>\n",
       "    <tr>\n",
       "      <th>787674</th>\n",
       "      <td>JOB1362685195361</td>\n",
       "      <td>COMP43</td>\n",
       "      <td>JUNIOR</td>\n",
       "      <td>DOCTORAL</td>\n",
       "      <td>BUSINESS</td>\n",
       "      <td>FINANCE</td>\n",
       "      <td>18</td>\n",
       "      <td>15</td>\n",
       "      <td>232</td>\n",
       "    </tr>\n",
       "    <tr>\n",
       "      <th>796956</th>\n",
       "      <td>JOB1362685204643</td>\n",
       "      <td>COMP30</td>\n",
       "      <td>JUNIOR</td>\n",
       "      <td>MASTERS</td>\n",
       "      <td>BUSINESS</td>\n",
       "      <td>OIL</td>\n",
       "      <td>24</td>\n",
       "      <td>2</td>\n",
       "      <td>228</td>\n",
       "    </tr>\n",
       "    <tr>\n",
       "      <th>855219</th>\n",
       "      <td>JOB1362685262906</td>\n",
       "      <td>COMP13</td>\n",
       "      <td>JUNIOR</td>\n",
       "      <td>MASTERS</td>\n",
       "      <td>ENGINEERING</td>\n",
       "      <td>OIL</td>\n",
       "      <td>22</td>\n",
       "      <td>26</td>\n",
       "      <td>225</td>\n",
       "    </tr>\n",
       "    <tr>\n",
       "      <th>954368</th>\n",
       "      <td>JOB1362685362055</td>\n",
       "      <td>COMP11</td>\n",
       "      <td>JUNIOR</td>\n",
       "      <td>DOCTORAL</td>\n",
       "      <td>BUSINESS</td>\n",
       "      <td>OIL</td>\n",
       "      <td>24</td>\n",
       "      <td>26</td>\n",
       "      <td>223</td>\n",
       "    </tr>\n",
       "  </tbody>\n",
       "</table>\n",
       "</div>"
      ],
      "text/plain": [
       "                  job_id company_id job_type     degree        major industry  \\\n",
       "1222    JOB1362684408909     COMP40   JUNIOR    MASTERS      COMPSCI      OIL   \n",
       "27710   JOB1362684435397     COMP21   JUNIOR   DOCTORAL  ENGINEERING      OIL   \n",
       "31355   JOB1362684439042     COMP45   JUNIOR   DOCTORAL      COMPSCI  FINANCE   \n",
       "100042  JOB1362684507729     COMP17   JUNIOR   DOCTORAL     BUSINESS  FINANCE   \n",
       "160333  JOB1362684568020     COMP18   JUNIOR   DOCTORAL     BUSINESS  FINANCE   \n",
       "189582  JOB1362684597269     COMP32   JUNIOR   DOCTORAL     BUSINESS      OIL   \n",
       "214606  JOB1362684622293     COMP47   JUNIOR    MASTERS     BUSINESS  FINANCE   \n",
       "303778  JOB1362684711465     COMP51   JUNIOR    MASTERS  ENGINEERING      WEB   \n",
       "348354  JOB1362684756041     COMP56   JUNIOR   DOCTORAL  ENGINEERING      OIL   \n",
       "427593  JOB1362684835280     COMP54   JUNIOR   DOCTORAL  ENGINEERING  FINANCE   \n",
       "500739  JOB1362684908426     COMP40   JUNIOR   DOCTORAL  ENGINEERING      OIL   \n",
       "627534  JOB1362685035221      COMP5   JUNIOR   DOCTORAL  ENGINEERING      OIL   \n",
       "645555  JOB1362685053242     COMP36   JUNIOR   DOCTORAL     BUSINESS  FINANCE   \n",
       "656572  JOB1362685064259     COMP28   JUNIOR   DOCTORAL     BUSINESS      OIL   \n",
       "685775  JOB1362685093462     COMP38   JUNIOR  BACHELORS  ENGINEERING      OIL   \n",
       "743326  JOB1362685151013     COMP14   JUNIOR   DOCTORAL     BUSINESS  FINANCE   \n",
       "787674  JOB1362685195361     COMP43   JUNIOR   DOCTORAL     BUSINESS  FINANCE   \n",
       "796956  JOB1362685204643     COMP30   JUNIOR    MASTERS     BUSINESS      OIL   \n",
       "855219  JOB1362685262906     COMP13   JUNIOR    MASTERS  ENGINEERING      OIL   \n",
       "954368  JOB1362685362055     COMP11   JUNIOR   DOCTORAL     BUSINESS      OIL   \n",
       "\n",
       "        years_experience  miles_from_metropolis  salary  \n",
       "1222                  24                      5     225  \n",
       "27710                 24                      3     246  \n",
       "31355                 24                      0     225  \n",
       "100042                23                      8     248  \n",
       "160333                22                      3     223  \n",
       "189582                24                     11     221  \n",
       "214606                22                      4     222  \n",
       "303778                24                      2     226  \n",
       "348354                23                     25     226  \n",
       "427593                23                      3     221  \n",
       "500739                21                      0     227  \n",
       "627534                24                     29     230  \n",
       "645555                24                      1     225  \n",
       "656572                22                      3     222  \n",
       "685775                24                     13     225  \n",
       "743326                19                      0     236  \n",
       "787674                18                     15     232  \n",
       "796956                24                      2     228  \n",
       "855219                22                     26     225  \n",
       "954368                24                     26     223  "
      ]
     },
     "execution_count": 11,
     "metadata": {},
     "output_type": "execute_result"
    }
   ],
   "source": [
    "# We can hypothesize that 'Junior' roles should not be paid above $220,500.\n",
    "# We will check these roles for anomalies\n",
    "train_df[(train_df['salary'] > upper_bound) & (train_df['job_type'] == 'JUNIOR')]"
   ]
  },
  {
   "cell_type": "markdown",
   "metadata": {},
   "source": [
    "**Observation:** \n",
    "- For jobs with salaries = 0, we can deduce that these are not volunteer positions or internships.  Corrupt data is present and we will remove these rows from the training dataframe.  \n",
    "- For `JUNIOR` roles paid greater than the upper_bound threshold, we see that all but one of these jobs requie a Master's degree or higher.  Also, the industries in this data are primarily Oil or Finance, with one instance of Web.  Since these industries can have lucrative pay, there is a possibility that `JUNIOR` roles can be paid such a large amount.  Therefore, we will not drop these rows."
   ]
  },
  {
   "cell_type": "code",
   "execution_count": 12,
   "metadata": {
    "ExecuteTime": {
     "end_time": "2020-06-26T19:24:23.245895Z",
     "start_time": "2020-06-26T19:24:22.957921Z"
    }
   },
   "outputs": [
    {
     "name": "stdout",
     "output_type": "stream",
     "text": [
      "Number of rows in new dataframe = 999995\n"
     ]
    }
   ],
   "source": [
    "# Keeping desired data\n",
    "train_df = train_df[train_df['salary'] > lower_bound]\n",
    "\n",
    "# Checking results (5 rows show be removed)\n",
    "print('Number of rows in new dataframe =', train_df.shape[0])"
   ]
  },
  {
   "cell_type": "code",
   "execution_count": 13,
   "metadata": {
    "ExecuteTime": {
     "end_time": "2020-06-26T19:24:25.099428Z",
     "start_time": "2020-06-26T19:24:24.979407Z"
    }
   },
   "outputs": [],
   "source": [
    "# Copy dataframe for use in modeling below\n",
    "clean_model_train_df = train_df.copy()"
   ]
  },
  {
   "cell_type": "markdown",
   "metadata": {},
   "source": [
    "## Explorartory Data Analysis"
   ]
  },
  {
   "cell_type": "code",
   "execution_count": 14,
   "metadata": {
    "ExecuteTime": {
     "end_time": "2020-06-26T19:24:26.700304Z",
     "start_time": "2020-06-26T19:24:26.684327Z"
    }
   },
   "outputs": [],
   "source": [
    "# Cateogrizing variables into different groups\n",
    "# job_id not included because each ID is unique and will not be helpful for analysis\n",
    "\n",
    "numerical_features = ['years_experience', 'miles_from_metropolis']\n",
    "categorical_features = ['company_id', 'job_type', 'degree', 'major', 'industry']\n",
    "target = ['salary']"
   ]
  },
  {
   "cell_type": "code",
   "execution_count": 15,
   "metadata": {
    "ExecuteTime": {
     "end_time": "2020-06-26T19:24:29.265085Z",
     "start_time": "2020-06-26T19:24:28.159557Z"
    }
   },
   "outputs": [
    {
     "data": {
      "image/png": "[encoded data removed]",
      "text/plain": [
       "<Figure size 1296x432 with 2 Axes>"
      ]
     },
     "metadata": {
      "needs_background": "light"
     },
     "output_type": "display_data"
    }
   ],
   "source": [
    "# Visualizing the target variable\n",
    "\n",
    "plt.figure(figsize = (18, 6))\n",
    "plt.subplot(1, 2, 1)\n",
    "sns.boxplot(train_df[target])\n",
    "plt.xlabel('SALARY ($ in 1000s)', fontsize = 14)\n",
    "plt.title('Salary Boxplot', fontsize = 20)\n",
    "plt.subplot(1, 2, 2)\n",
    "sns.distplot(train_df[target], color = 'red', bins = 30)\n",
    "plt.xlabel('SALARY ($ in 1000s)', fontsize = 14)\n",
    "plt.title('Salary Distribution', fontsize = 20)\n",
    "plt.show()"
   ]
  },
  {
   "cell_type": "markdown",
   "metadata": {},
   "source": [
    "**Observation:** `Salary` is right-skewed but has a shape of a normal distribution"
   ]
  },
  {
   "cell_type": "code",
   "execution_count": 17,
   "metadata": {
    "ExecuteTime": {
     "end_time": "2020-06-26T19:24:46.199229Z",
     "start_time": "2020-06-26T19:24:46.159239Z"
    }
   },
   "outputs": [],
   "source": [
    "def plot(df,col):\n",
    "    plt.figure(figsize=[14,6])\n",
    "    if df[col].dtype == 'int64' or col == 'companyId':\n",
    "        mean = df.groupby(col)['salary'].mean().plot()\n",
    "        plt.xlabel(col)\n",
    "        plt.ylabel(\"Mean Salary\")\n",
    "        plt.xlabel(col.upper().replace('_', ' '), fontsize = 16)\n",
    "        plt.ylabel('AVERAGE SALARY($ in 1000s)', fontsize = 16)\n",
    "        plt.title('{} vs. AVERAGE SALARY'.format(col.upper().replace('_', ' ')), fontsize = 20)\n",
    "        plt.show()\n",
    "        \n",
    "    else:\n",
    "        mean = df.groupby(col)['salary'].mean().sort_values(ascending = True).index\n",
    "        sns.boxplot(x = col, y = 'salary', data = df, order = mean, palette = 'Set2') \n",
    "        plt.xticks(rotation = 30)\n",
    "        plt.xlabel(col.upper().replace('_', ' '), fontsize = 16)\n",
    "        plt.ylabel('SALARY($ in 1000s) ', fontsize = 16)\n",
    "        plt.title('{} vs. SALARY'.format(col.upper().replace('_', ' ')), fontsize = 20)\n",
    "        plt.show()"
   ]
  },
  {
   "cell_type": "markdown",
   "metadata": {},
   "source": [
    "### Plots (Categorical Variables vs. Target)"
   ]
  },
  {
   "cell_type": "code",
   "execution_count": 18,
   "metadata": {
    "ExecuteTime": {
     "end_time": "2020-06-26T19:24:50.139803Z",
     "start_time": "2020-06-26T19:24:49.059942Z"
    }
   },
   "outputs": [
    {
     "data": {
      "image/png": "[encoded data removed]",
      "text/plain": [
       "<Figure size 1008x432 with 1 Axes>"
      ]
     },
     "metadata": {
      "needs_background": "light"
     },
     "output_type": "display_data"
    }
   ],
   "source": [
    "plot(train_df, 'job_type')"
   ]
  },
  {
   "cell_type": "code",
   "execution_count": 19,
   "metadata": {
    "ExecuteTime": {
     "end_time": "2020-06-26T19:24:53.036285Z",
     "start_time": "2020-06-26T19:24:52.183095Z"
    }
   },
   "outputs": [
    {
     "data": {
      "image/png": "[encoded data removed]",
      "text/plain": [
       "<Figure size 1008x432 with 1 Axes>"
      ]
     },
     "metadata": {
      "needs_background": "light"
     },
     "output_type": "display_data"
    }
   ],
   "source": [
    "plot(train_df, 'degree')"
   ]
  },
  {
   "cell_type": "code",
   "execution_count": 20,
   "metadata": {
    "ExecuteTime": {
     "end_time": "2020-06-26T19:24:56.876743Z",
     "start_time": "2020-06-26T19:24:55.784027Z"
    }
   },
   "outputs": [
    {
     "data": {
      "image/png": "[encoded data removed]",
      "text/plain": [
       "<Figure size 1008x432 with 1 Axes>"
      ]
     },
     "metadata": {
      "needs_background": "light"
     },
     "output_type": "display_data"
    }
   ],
   "source": [
    "plot(train_df, 'major')"
   ]
  },
  {
   "cell_type": "code",
   "execution_count": 21,
   "metadata": {
    "ExecuteTime": {
     "end_time": "2020-06-26T19:25:00.312208Z",
     "start_time": "2020-06-26T19:24:59.371845Z"
    }
   },
   "outputs": [
    {
     "data": {
      "image/png": "[encoded data removed]",
      "text/plain": [
       "<Figure size 1008x432 with 1 Axes>"
      ]
     },
     "metadata": {
      "needs_background": "light"
     },
     "output_type": "display_data"
    }
   ],
   "source": [
    "plot(train_df, 'industry')"
   ]
  },
  {
   "cell_type": "markdown",
   "metadata": {},
   "source": [
    "**Obseravation:**\n",
    "\n",
    "- For job titles, CEOs are paid the highest and Janitors are paid the lowest.  The difference in mean salary is about 70K.  \n",
    "- For degree type, jobs requiring a Bachelor's Degree and above are paid relatively similar.  However, there is a big dropoff compared to no degree and a high school diploma.  The salary difference between these two groups is about 30K.\n",
    "- For major, there is minimal difference between salary and chosen major.  However there is a significant dropoff with those not choosing a major. People without a chosen major have an average salary 30K lower than those who chose a major.\n",
    "- For industry, Oil and Finance have the highest salaries while Education has the lowest salary.  The difference between highest to lowest industries is about 30K."
   ]
  },
  {
   "cell_type": "markdown",
   "metadata": {},
   "source": [
    "### Plots (Numerical Variables vs. Target)"
   ]
  },
  {
   "cell_type": "code",
   "execution_count": 22,
   "metadata": {
    "ExecuteTime": {
     "end_time": "2020-06-26T19:25:06.057778Z",
     "start_time": "2020-06-26T19:25:05.630066Z"
    }
   },
   "outputs": [
    {
     "data": {
      "image/png": "[encoded data removed]",
      "text/plain": [
       "<Figure size 1008x432 with 1 Axes>"
      ]
     },
     "metadata": {
      "needs_background": "light"
     },
     "output_type": "display_data"
    }
   ],
   "source": [
    "plot(train_df, 'miles_from_metropolis')"
   ]
  },
  {
   "cell_type": "code",
   "execution_count": 23,
   "metadata": {
    "ExecuteTime": {
     "end_time": "2020-06-26T19:25:08.942153Z",
     "start_time": "2020-06-26T19:25:08.469129Z"
    }
   },
   "outputs": [
    {
     "data": {
      "image/png": "[encoded data removed]",
      "text/plain": [
       "<Figure size 1008x432 with 1 Axes>"
      ]
     },
     "metadata": {
      "needs_background": "light"
     },
     "output_type": "display_data"
    }
   ],
   "source": [
    "plot(train_df, 'years_experience')"
   ]
  },
  {
   "cell_type": "markdown",
   "metadata": {},
   "source": [
    "**Observation:**\n",
    "\n",
    "- Miles from Metropolis and Average Salary have a negatively-correlated linear relationship.  Salaries generally decrease as we move away from a metropolis location.\n",
    "- Year Experience and Average Salary have a positively-correlated linear relationship.  More years experience generally leads to an increase in salary.  "
   ]
  },
  {
   "cell_type": "markdown",
   "metadata": {},
   "source": [
    "### Checking Sample Balance"
   ]
  },
  {
   "cell_type": "code",
   "execution_count": null,
   "metadata": {
    "ExecuteTime": {
     "end_time": "2020-06-26T19:21:56.239432Z",
     "start_time": "2020-06-26T19:21:56.215429Z"
    }
   },
   "outputs": [],
   "source": [
    "train_df.dtypes"
   ]
  },
  {
   "cell_type": "code",
   "execution_count": 69,
   "metadata": {
    "ExecuteTime": {
     "end_time": "2020-06-26T20:02:46.461535Z",
     "start_time": "2020-06-26T20:02:46.437547Z"
    },
    "hide_input": false
   },
   "outputs": [],
   "source": [
    "def countplot(df, col):\n",
    "    plt.figure(figsize = (18, 6))\n",
    "    sns.countplot(df[col], palette = 'Set2')\n",
    "    plt.xlabel('')\n",
    "    plt.ylabel('')\n",
    "    plt.title('{} COUNTS'.format(col.upper().replace('_', ' ')), fontsize = 20)\n",
    "    \n",
    "    if (col == 'miles_from_metropolis') | (col == 'company_id'):\n",
    "        plt.xticks(rotation = 90)\n",
    "\n",
    "    plt.show()"
   ]
  },
  {
   "cell_type": "code",
   "execution_count": 101,
   "metadata": {
    "ExecuteTime": {
     "end_time": "2020-06-26T21:15:01.582319Z",
     "start_time": "2020-06-26T21:15:00.865980Z"
    },
    "hide_input": false
   },
   "outputs": [
    {
     "data": {
      "image/png": "[encoded data removed]",
      "text/plain": [
       "<Figure size 1296x432 with 1 Axes>"
      ]
     },
     "metadata": {
      "needs_background": "light"
     },
     "output_type": "display_data"
    }
   ],
   "source": [
    "countplot(train_df, 'years_experience')"
   ]
  },
  {
   "cell_type": "code",
   "execution_count": null,
   "metadata": {},
   "outputs": [],
   "source": []
  },
  {
   "cell_type": "code",
   "execution_count": null,
   "metadata": {},
   "outputs": [],
   "source": []
  },
  {
   "cell_type": "code",
   "execution_count": null,
   "metadata": {},
   "outputs": [],
   "source": []
  },
  {
   "cell_type": "code",
   "execution_count": null,
   "metadata": {},
   "outputs": [],
   "source": []
  },
  {
   "cell_type": "code",
   "execution_count": 102,
   "metadata": {
    "ExecuteTime": {
     "end_time": "2020-06-26T21:49:11.954455Z",
     "start_time": "2020-06-26T21:49:10.892847Z"
    }
   },
   "outputs": [],
   "source": [
    "for cat in categorical_features:\n",
    "    train_df[cat] = train_df[cat].astype('category')"
   ]
  },
  {
   "cell_type": "code",
   "execution_count": 103,
   "metadata": {
    "ExecuteTime": {
     "end_time": "2020-06-26T21:49:14.767272Z",
     "start_time": "2020-06-26T21:49:14.743299Z"
    }
   },
   "outputs": [],
   "source": [
    "# Encoding cateorical variables to replace label with average salary of category\n",
    "def encode_label(df, col):\n",
    "    cat_dict = {}\n",
    "    cats = df[col].cat.categories.tolist()\n",
    "    for cat in cats:\n",
    "        cat_dict[cat] = df[df[col] == cat]['salary'].mean()\n",
    "    df[col] = df[col].map(cat_dict)"
   ]
  },
  {
   "cell_type": "code",
   "execution_count": 104,
   "metadata": {
    "ExecuteTime": {
     "end_time": "2020-06-26T21:49:19.455145Z",
     "start_time": "2020-06-26T21:49:16.842937Z"
    }
   },
   "outputs": [],
   "source": [
    "# Executing label encoding\n",
    "for col in train_df.columns:\n",
    "    if train_df[col].dtype.name == 'category':\n",
    "        encode_label(train_df,col)"
   ]
  },
  {
   "cell_type": "code",
   "execution_count": 105,
   "metadata": {
    "ExecuteTime": {
     "end_time": "2020-06-26T21:49:21.307181Z",
     "start_time": "2020-06-26T21:49:20.385289Z"
    }
   },
   "outputs": [],
   "source": [
    "# Changing format for some columns\n",
    "for feature in categorical_features:\n",
    "    train_df[feature] = train_df[feature].astype(float)\n",
    "    train_df[feature] = train_df[feature].round(2)"
   ]
  },
  {
   "cell_type": "code",
   "execution_count": 106,
   "metadata": {
    "ExecuteTime": {
     "end_time": "2020-06-26T21:49:23.141141Z",
     "start_time": "2020-06-26T21:49:23.085122Z"
    }
   },
   "outputs": [
    {
     "data": {
      "text/html": [
       "<div>\n",
       "<style scoped>\n",
       "    .dataframe tbody tr th:only-of-type {\n",
       "        vertical-align: middle;\n",
       "    }\n",
       "\n",
       "    .dataframe tbody tr th {\n",
       "        vertical-align: top;\n",
       "    }\n",
       "\n",
       "    .dataframe thead th {\n",
       "        text-align: right;\n",
       "    }\n",
       "</style>\n",
       "<table border=\"1\" class=\"dataframe\">\n",
       "  <thead>\n",
       "    <tr style=\"text-align: right;\">\n",
       "      <th></th>\n",
       "      <th>job_id</th>\n",
       "      <th>company_id</th>\n",
       "      <th>job_type</th>\n",
       "      <th>degree</th>\n",
       "      <th>major</th>\n",
       "      <th>industry</th>\n",
       "      <th>years_experience</th>\n",
       "      <th>miles_from_metropolis</th>\n",
       "      <th>salary</th>\n",
       "    </tr>\n",
       "  </thead>\n",
       "  <tbody>\n",
       "    <tr>\n",
       "      <th>0</th>\n",
       "      <td>JOB1362684407687</td>\n",
       "      <td>115.35</td>\n",
       "      <td>135.46</td>\n",
       "      <td>130.51</td>\n",
       "      <td>133.32</td>\n",
       "      <td>115.74</td>\n",
       "      <td>10</td>\n",
       "      <td>83</td>\n",
       "      <td>130</td>\n",
       "    </tr>\n",
       "    <tr>\n",
       "      <th>1</th>\n",
       "      <td>JOB1362684407688</td>\n",
       "      <td>115.76</td>\n",
       "      <td>145.31</td>\n",
       "      <td>101.92</td>\n",
       "      <td>102.58</td>\n",
       "      <td>121.65</td>\n",
       "      <td>3</td>\n",
       "      <td>73</td>\n",
       "      <td>101</td>\n",
       "    </tr>\n",
       "    <tr>\n",
       "      <th>2</th>\n",
       "      <td>JOB1362684407689</td>\n",
       "      <td>116.22</td>\n",
       "      <td>125.37</td>\n",
       "      <td>135.49</td>\n",
       "      <td>130.37</td>\n",
       "      <td>115.74</td>\n",
       "      <td>10</td>\n",
       "      <td>38</td>\n",
       "      <td>137</td>\n",
       "    </tr>\n",
       "    <tr>\n",
       "      <th>3</th>\n",
       "      <td>JOB1362684407690</td>\n",
       "      <td>116.20</td>\n",
       "      <td>115.37</td>\n",
       "      <td>135.49</td>\n",
       "      <td>129.07</td>\n",
       "      <td>109.44</td>\n",
       "      <td>8</td>\n",
       "      <td>17</td>\n",
       "      <td>142</td>\n",
       "    </tr>\n",
       "    <tr>\n",
       "      <th>4</th>\n",
       "      <td>JOB1362684407691</td>\n",
       "      <td>115.89</td>\n",
       "      <td>125.37</td>\n",
       "      <td>125.45</td>\n",
       "      <td>130.37</td>\n",
       "      <td>130.75</td>\n",
       "      <td>8</td>\n",
       "      <td>16</td>\n",
       "      <td>163</td>\n",
       "    </tr>\n",
       "  </tbody>\n",
       "</table>\n",
       "</div>"
      ],
      "text/plain": [
       "             job_id  company_id  job_type  degree   major  industry  \\\n",
       "0  JOB1362684407687      115.35    135.46  130.51  133.32    115.74   \n",
       "1  JOB1362684407688      115.76    145.31  101.92  102.58    121.65   \n",
       "2  JOB1362684407689      116.22    125.37  135.49  130.37    115.74   \n",
       "3  JOB1362684407690      116.20    115.37  135.49  129.07    109.44   \n",
       "4  JOB1362684407691      115.89    125.37  125.45  130.37    130.75   \n",
       "\n",
       "   years_experience  miles_from_metropolis  salary  \n",
       "0                10                     83     130  \n",
       "1                 3                     73     101  \n",
       "2                10                     38     137  \n",
       "3                 8                     17     142  \n",
       "4                 8                     16     163  "
      ]
     },
     "execution_count": 106,
     "metadata": {},
     "output_type": "execute_result"
    }
   ],
   "source": [
    "# Showing that categorical labels have been replaced with category averages\n",
    "train_df.head()"
   ]
  },
  {
   "cell_type": "code",
   "execution_count": 107,
   "metadata": {
    "ExecuteTime": {
     "end_time": "2020-06-26T21:49:37.143890Z",
     "start_time": "2020-06-26T21:49:34.553099Z"
    }
   },
   "outputs": [
    {
     "data": {
      "image/png": "[encoded data removed]",
      "text/plain": [
       "<Figure size 864x720 with 2 Axes>"
      ]
     },
     "metadata": {
      "needs_background": "light"
     },
     "output_type": "display_data"
    }
   ],
   "source": [
    "#Creating a correlation heatmap of all features and target variable\n",
    "combined_features = numerical_features + categorical_features + target\n",
    "fig = plt.figure(figsize = (12, 10))\n",
    "sns.heatmap(train_df[combined_features].corr(), cmap = 'coolwarm', annot = True, fmt = '0.3f')\n",
    "plt.xticks(rotation = 45)\n",
    "plt.show()"
   ]
  },
  {
   "cell_type": "markdown",
   "metadata": {},
   "source": [
    "**Observation:**\n",
    "\n",
    "The correlation heatmap shows the following relationships:\n",
    "\n",
    "- All features except `company_id` affect the target variable (salary) in a significant way.  This makes sense with our plots above which show some variance with each feature with respect to salary.  Job type is the feature that affects salary the strongest.  \n",
    "- There is a strong relationship between degree and major.  This makese sense since people without a college degree (i.e. None or High School) will not have a major in college.  This could explain why there is a large number of job postings with 'No Major Listed'.  "
   ]
  },
  {
   "cell_type": "markdown",
   "metadata": {},
   "source": [
    "### Establish a Baseline for Modeling Purposes"
   ]
  },
  {
   "cell_type": "code",
   "execution_count": null,
   "metadata": {
    "ExecuteTime": {
     "end_time": "2020-06-25T18:32:29.140511Z",
     "start_time": "2020-06-25T18:32:25.918672Z"
    }
   },
   "outputs": [],
   "source": [
    "# Since there is a significant relationship between salary and miles_from_metropolis, we will\n",
    "# do a simple linear regression using these variables as a baseline model\n",
    "from sklearn.linear_model import LinearRegression\n",
    "from sklearn.model_selection import cross_val_score\n",
    "simple_lr = LinearRegression()\n",
    "simple_lr.fit(train_df[['miles_from_metropolis']], train_df['salary'])"
   ]
  },
  {
   "cell_type": "code",
   "execution_count": null,
   "metadata": {
    "ExecuteTime": {
     "end_time": "2020-06-25T18:32:29.156511Z",
     "start_time": "2020-06-25T18:32:29.140511Z"
    }
   },
   "outputs": [],
   "source": [
    "# Defining cross validation function for multiple models (k = 5 folds)\n",
    "def cross_validation(model, features, target):\n",
    "    result = cross_val_score(model, features, target, cv = 5, scoring = 'neg_mean_squared_error')\n",
    "    print('\\n Model:', model)\n",
    "    print('\\n Average MSE: ' + str(-result.mean()))\n",
    "    print('\\n Standard Deviation during cross-validation: ' + str(result.std()))"
   ]
  },
  {
   "cell_type": "code",
   "execution_count": null,
   "metadata": {
    "ExecuteTime": {
     "end_time": "2020-06-25T18:32:30.754716Z",
     "start_time": "2020-06-25T18:32:29.164514Z"
    }
   },
   "outputs": [],
   "source": [
    "cross_validation(simple_lr, train_df[['miles_from_metropolis']], train_df['salary'])"
   ]
  },
  {
   "cell_type": "markdown",
   "metadata": {
    "ExecuteTime": {
     "end_time": "2020-06-25T00:01:19.530262Z",
     "start_time": "2020-06-25T00:01:19.402263Z"
    }
   },
   "source": [
    "**Observation:**\n",
    "Our MSE value is relatively high for a baseline model.  We will create three other models to reduce MSE even further:\n",
    "\n",
    "1. Linear Regression - Since our numerical features showed a relatively linear relationship, a linear regression model with more features will be approriate to use.\n",
    "2. Random Forest - This model is good for highlighting which features affect the targer variable the most.\n",
    "3. Gradient Boosting - This model works well with linearly-related features and contains tuning parameters which can ideally reduce MSE."
   ]
  },
  {
   "cell_type": "markdown",
   "metadata": {},
   "source": [
    "## Part 3 - DEVELOP"
   ]
  },
  {
   "cell_type": "code",
   "execution_count": null,
   "metadata": {
    "ExecuteTime": {
     "end_time": "2020-06-25T18:32:32.119765Z",
     "start_time": "2020-06-25T18:32:30.754716Z"
    }
   },
   "outputs": [],
   "source": [
    "#Importing necessary libraries\n",
    "from sklearn.ensemble import RandomForestRegressor, GradientBoostingRegressor\n",
    "from sklearn.utils import shuffle\n",
    "from sklearn.metrics import mean_squared_error"
   ]
  },
  {
   "cell_type": "markdown",
   "metadata": {},
   "source": [
    "### Define Functions for Model Development"
   ]
  },
  {
   "cell_type": "code",
   "execution_count": null,
   "metadata": {
    "ExecuteTime": {
     "end_time": "2020-06-25T18:32:32.135764Z",
     "start_time": "2020-06-25T18:32:32.119765Z"
    }
   },
   "outputs": [],
   "source": [
    "# Function to perform one hot encoding on categorical variables and combine with numerical variables\n",
    "def one_hot_encode(df, categorical_vars = None, numeric_vars = None):\n",
    "    categorical_df = pd.get_dummies(df[categorical_vars])\n",
    "    numeric_df = df[numeric_vars].apply(pd.to_numeric)\n",
    "    return pd.concat([categorical_df, numeric_df], axis=1)\n",
    "\n",
    "# Function to return dataframe of target variable(s)\n",
    "def get_target(df, target_var):\n",
    "    return df[target_var]\n"
   ]
  },
  {
   "cell_type": "markdown",
   "metadata": {},
   "source": [
    "### Preparing Model Data"
   ]
  },
  {
   "cell_type": "code",
   "execution_count": null,
   "metadata": {
    "ExecuteTime": {
     "end_time": "2020-06-25T18:32:39.042809Z",
     "start_time": "2020-06-25T18:32:32.135764Z"
    }
   },
   "outputs": [],
   "source": [
    "# Shuffling training dataframe to randomize and possibly improve cross-validation accuracy\n",
    "random_train_df = shuffle(clean_model_train_df).reset_index()\n",
    "\n",
    "# Encoding categorical data and finalzing features for train and test dataframes\n",
    "train_model_df = one_hot_encode(random_train_df, categorical_vars = categorical_features , numeric_vars = numerical_features)\n",
    "test_model_df = one_hot_encode(df_test_features, categorical_vars = categorical_features , numeric_vars = numerical_features)\n",
    "\n",
    "# Defining target dataframe\n",
    "target_df = get_target(random_train_df, target)\n"
   ]
  },
  {
   "cell_type": "markdown",
   "metadata": {},
   "source": [
    "### Testing the Models"
   ]
  },
  {
   "cell_type": "code",
   "execution_count": null,
   "metadata": {
    "ExecuteTime": {
     "end_time": "2020-06-25T18:33:57.632872Z",
     "start_time": "2020-06-25T18:32:39.042809Z"
    }
   },
   "outputs": [],
   "source": [
    "# Linear Regression\n",
    "lr = LinearRegression()\n",
    "lr.fit(train_model_df, target_df)\n",
    "lr_metrics = cross_val_score(lr, train_model_df, target_df, cv = 5, scoring = 'neg_mean_squared_error')\n",
    "lr_mse = -1 * lr_metrics.mean()\n",
    "lr_std = lr_metrics.std()\n",
    "\n",
    "print('Model:', lr)\n",
    "print('\\nAverage MSE:', lr_mse)\n",
    "print('\\nStandard Deviation during cross-validation:', lr_std)"
   ]
  },
  {
   "cell_type": "code",
   "execution_count": null,
   "metadata": {
    "ExecuteTime": {
     "end_time": "2020-06-25T19:38:43.826546Z",
     "start_time": "2020-06-25T19:01:46.301224Z"
    }
   },
   "outputs": [],
   "source": [
    "# Random Forest\n",
    "\n",
    "rf = RandomForestRegressor(n_estimators = 100, n_jobs = -1, max_depth = 10, max_features = 30, \n",
    "                           verbose = 0, min_samples_split = 60)\n",
    "rf_metrics = cross_val_score(rf, train_model_df, target_df, cv = 5, scoring = 'neg_mean_squared_error')\n",
    "rf_mse = -1 * rf_metrics.mean()\n",
    "rf_std = rf_metrics.std()\n",
    "\n",
    "print('Model:', rf)\n",
    "print('\\nAverage MSE:', rf_mse)\n",
    "print('\\nStandard Deviation during cross-validation:', rf_std)\n",
    "\n",
    "#37 minute run time"
   ]
  },
  {
   "cell_type": "code",
   "execution_count": null,
   "metadata": {
    "ExecuteTime": {
     "end_time": "2020-06-25T22:31:42.605428Z",
     "start_time": "2020-06-25T19:48:03.061502Z"
    }
   },
   "outputs": [],
   "source": [
    "#Gradient Boosting\n",
    "\n",
    "gb = GradientBoostingRegressor(n_estimators = 100, max_depth = 5, loss = 'ls', learning_rate = 0.1, verbose = 1)\n",
    "gb.fit(train_model_df, target_df)\n",
    "gb_metrics = cross_val_score(gb, train_model_df, target_df, cv = 5, scoring = 'neg_mean_squared_error')\n",
    "gb_mse = -1 * gb_metrics.mean()\n",
    "gb_std = gb_metrics.std()\n",
    "\n",
    "print('Model:', gb)\n",
    "print('\\nAverage MSE:', gb_mse)\n",
    "print('\\nStandard Deviation during cross-validation:', gb_std)\n",
    "\n",
    "# Run time = 2 hours, 43 min"
   ]
  },
  {
   "cell_type": "code",
   "execution_count": 108,
   "metadata": {
    "ExecuteTime": {
     "end_time": "2020-06-26T23:27:57.003760Z",
     "start_time": "2020-06-26T23:27:56.799471Z"
    }
   },
   "outputs": [
    {
     "ename": "NameError",
     "evalue": "name 'gb' is not defined",
     "output_type": "error",
     "traceback": [
      "\u001b[1;31m---------------------------------------------------------------------------\u001b[0m",
      "\u001b[1;31mNameError\u001b[0m                                 Traceback (most recent call last)",
      "\u001b[1;32m<ipython-input-108-941c8779e53b>\u001b[0m in \u001b[0;36m<module>\u001b[1;34m\u001b[0m\n\u001b[1;32m----> 1\u001b[1;33m \u001b[0mmodel\u001b[0m \u001b[1;33m=\u001b[0m \u001b[0mgb\u001b[0m\u001b[1;33m\u001b[0m\u001b[1;33m\u001b[0m\u001b[0m\n\u001b[0m\u001b[0;32m      2\u001b[0m \u001b[0mmodel\u001b[0m\u001b[1;33m\u001b[0m\u001b[1;33m\u001b[0m\u001b[0m\n\u001b[0;32m      3\u001b[0m \u001b[0mmodel\u001b[0m\u001b[1;33m.\u001b[0m\u001b[0mfeature_importances_\u001b[0m\u001b[1;33m\u001b[0m\u001b[1;33m\u001b[0m\u001b[0m\n\u001b[0;32m      4\u001b[0m \u001b[0mtrain_model_df\u001b[0m\u001b[1;33m.\u001b[0m\u001b[0mcolumns\u001b[0m\u001b[1;33m\u001b[0m\u001b[1;33m\u001b[0m\u001b[0m\n",
      "\u001b[1;31mNameError\u001b[0m: name 'gb' is not defined"
     ]
    }
   ],
   "source": [
    "model = gb\n",
    "model\n",
    "model.feature_importances_\n",
    "train_model_df.columns"
   ]
  },
  {
   "cell_type": "code",
   "execution_count": 109,
   "metadata": {
    "ExecuteTime": {
     "end_time": "2020-06-26T23:28:00.767177Z",
     "start_time": "2020-06-26T23:28:00.727183Z"
    }
   },
   "outputs": [
    {
     "ename": "NameError",
     "evalue": "name 'model' is not defined",
     "output_type": "error",
     "traceback": [
      "\u001b[1;31m---------------------------------------------------------------------------\u001b[0m",
      "\u001b[1;31mNameError\u001b[0m                                 Traceback (most recent call last)",
      "\u001b[1;32m<ipython-input-109-d86beead5272>\u001b[0m in \u001b[0;36m<module>\u001b[1;34m\u001b[0m\n\u001b[1;32m----> 1\u001b[1;33m \u001b[0mfeature_importances\u001b[0m \u001b[1;33m=\u001b[0m \u001b[0mpd\u001b[0m\u001b[1;33m.\u001b[0m\u001b[0mSeries\u001b[0m\u001b[1;33m(\u001b[0m\u001b[0mmodel\u001b[0m\u001b[1;33m.\u001b[0m\u001b[0mfeature_importances_\u001b[0m\u001b[1;33m,\u001b[0m \u001b[0mindex\u001b[0m \u001b[1;33m=\u001b[0m \u001b[0mtrain_model_df\u001b[0m\u001b[1;33m.\u001b[0m\u001b[0mcolumns\u001b[0m\u001b[1;33m)\u001b[0m\u001b[1;33m\u001b[0m\u001b[1;33m\u001b[0m\u001b[0m\n\u001b[0m\u001b[0;32m      2\u001b[0m \u001b[0mfeature_importances\u001b[0m\u001b[1;33m.\u001b[0m\u001b[0mnlargest\u001b[0m\u001b[1;33m(\u001b[0m\u001b[1;36m20\u001b[0m\u001b[1;33m)\u001b[0m\u001b[1;33m.\u001b[0m\u001b[0mplot\u001b[0m\u001b[1;33m(\u001b[0m\u001b[0mkind\u001b[0m \u001b[1;33m=\u001b[0m \u001b[1;34m'bar'\u001b[0m\u001b[1;33m,\u001b[0m \u001b[0mfigsize\u001b[0m \u001b[1;33m=\u001b[0m \u001b[1;33m(\u001b[0m\u001b[1;36m12\u001b[0m\u001b[1;33m,\u001b[0m \u001b[1;36m6\u001b[0m\u001b[1;33m)\u001b[0m\u001b[1;33m)\u001b[0m\u001b[1;33m\u001b[0m\u001b[1;33m\u001b[0m\u001b[0m\n",
      "\u001b[1;31mNameError\u001b[0m: name 'model' is not defined"
     ]
    }
   ],
   "source": [
    "feature_importances = pd.Series(model.feature_importances_, index = train_model_df.columns)\n",
    "feature_importances.nlargest(20).plot(kind = 'bar', figsize = (12, 6))"
   ]
  },
  {
   "cell_type": "code",
   "execution_count": null,
   "metadata": {
    "ExecuteTime": {
     "end_time": "2020-06-25T18:33:57.985196Z",
     "start_time": "2020-06-25T18:33:57.897196Z"
    }
   },
   "outputs": [],
   "source": [
    "# Gradient Boosting provided the best model"
   ]
  },
  {
   "cell_type": "markdown",
   "metadata": {},
   "source": [
    "## Part 4 - DEPLOY"
   ]
  },
  {
   "cell_type": "markdown",
   "metadata": {},
   "source": [
    "### Creating Pipeline for Information"
   ]
  },
  {
   "cell_type": "code",
   "execution_count": null,
   "metadata": {
    "ExecuteTime": {
     "end_time": "2020-06-25T18:33:58.081477Z",
     "start_time": "2020-06-25T18:33:57.985196Z"
    }
   },
   "outputs": [],
   "source": [
    "#write script that trains model on entire training set, saves model to disk,\n",
    "#and scores the \"test\" dataset"
   ]
  },
  {
   "cell_type": "markdown",
   "metadata": {},
   "source": [
    "### Deploying Solution"
   ]
  },
  {
   "cell_type": "code",
   "execution_count": null,
   "metadata": {
    "ExecuteTime": {
     "end_time": "2020-06-25T18:33:58.185500Z",
     "start_time": "2020-06-25T18:33:58.089476Z"
    }
   },
   "outputs": [],
   "source": []
  }
 ],
 "metadata": {
  "kernelspec": {
   "display_name": "Python 3",
   "language": "python",
   "name": "python3"
  },
  "language_info": {
   "codemirror_mode": {
    "name": "ipython",
    "version": 3
   },
   "file_extension": ".py",
   "mimetype": "text/x-python",
   "name": "python",
   "nbconvert_exporter": "python",
   "pygments_lexer": "ipython3",
   "version": "3.7.6"
  },
  "toc": {
   "base_numbering": 1,
   "nav_menu": {},
   "number_sections": true,
   "sideBar": true,
   "skip_h1_title": false,
   "title_cell": "Table of Contents",
   "title_sidebar": "Contents",
   "toc_cell": false,
   "toc_position": {},
   "toc_section_display": true,
   "toc_window_display": false
  },
  "varInspector": {
   "cols": {
    "lenName": 16,
    "lenType": 16,
    "lenVar": 40
   },
   "kernels_config": {
    "python": {
     "delete_cmd_postfix": "",
     "delete_cmd_prefix": "del ",
     "library": "var_list.py",
     "varRefreshCmd": "print(var_dic_list())"
    },
    "r": {
     "delete_cmd_postfix": ") ",
     "delete_cmd_prefix": "rm(",
     "library": "var_list.r",
     "varRefreshCmd": "cat(var_dic_list()) "
    }
   },
   "types_to_exclude": [
    "module",
    "function",
    "builtin_function_or_method",
    "instance",
    "_Feature"
   ],
   "window_display": false
  }
 },
 "nbformat": 4,
 "nbformat_minor": 2
}
