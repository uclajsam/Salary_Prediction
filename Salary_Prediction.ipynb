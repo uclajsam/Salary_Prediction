{
 "cells": [
  {
   "cell_type": "markdown",
   "metadata": {
    "hide_input": true
   },
   "source": [
    "# Salary Predictions Based on Job Descriptions"
   ]
  },
  {
   "cell_type": "markdown",
   "metadata": {},
   "source": [
    "# Part 1 - DEFINE"
   ]
  },
  {
   "cell_type": "markdown",
   "metadata": {},
   "source": [
    "The purpose of this project aims to predict future job salaries based on a dataset of one million observations of current job postings.  Python will be used for analysis."
   ]
  },
  {
   "cell_type": "code",
   "execution_count": 1,
   "metadata": {
    "ExecuteTime": {
     "end_time": "2020-06-25T18:31:44.570438Z",
     "start_time": "2020-06-25T18:31:41.374607Z"
    }
   },
   "outputs": [],
   "source": [
    "# Importing libraries\n",
    "import pandas as pd\n",
    "import numpy as np\n",
    "import matplotlib.pyplot as plt\n",
    "import seaborn as sns\n",
    "\n",
    "__author__ = \"John Samson\"\n",
    "__email__ = \"samson.john@gmail.com\""
   ]
  },
  {
   "cell_type": "markdown",
   "metadata": {},
   "source": [
    "## Part 2 - DISCOVER"
   ]
  },
  {
   "cell_type": "markdown",
   "metadata": {},
   "source": [
    "### Loading the data"
   ]
  },
  {
   "cell_type": "code",
   "execution_count": 2,
   "metadata": {
    "ExecuteTime": {
     "end_time": "2020-06-25T18:31:51.038780Z",
     "start_time": "2020-06-25T18:31:44.570438Z"
    }
   },
   "outputs": [],
   "source": [
    "# Loading files into pandas dataframe\n",
    "df_train_features = pd.read_csv(r'C:\\Users\\oscar\\Desktop\\Data Science\\DataScienceProjects\\SalaryPrediction\\data\\train_features.csv')\n",
    "df_train_target = pd.read_csv(r'C:\\Users\\oscar\\Desktop\\Data Science\\DataScienceProjects\\SalaryPrediction\\data\\train_salaries.csv')\n",
    "df_test_features = pd.read_csv(r'C:\\Users\\oscar\\Desktop\\Data Science\\DataScienceProjects\\SalaryPrediction\\data\\test_features.csv')"
   ]
  },
  {
   "cell_type": "markdown",
   "metadata": {},
   "source": [
    "### Examining and Cleaning the Data "
   ]
  },
  {
   "cell_type": "code",
   "execution_count": 3,
   "metadata": {
    "ExecuteTime": {
     "end_time": "2020-06-25T18:31:51.054757Z",
     "start_time": "2020-06-25T18:31:51.038780Z"
    }
   },
   "outputs": [],
   "source": [
    "# Defining a function for initial data analysis\n",
    "def examine_df(df):\n",
    "    print(df.info())\n",
    "    \n",
    "    # Return a few rows\n",
    "    print('\\n')\n",
    "    print('First five rows')\n",
    "    print('--------------------')\n",
    "    print(df.head())\n",
    "    \n",
    "    # Return descriptive information of the dataframe\n",
    "    print('\\n\\n Descriptive Information for Numerical Variables')\n",
    "    print('--------------------')\n",
    "    print(df.describe(include = [np.number]))\n",
    "    print('\\n\\n Descriptive Information for Categorical Variables')\n",
    "    print('--------------------')\n",
    "    print(df.describe(include = ['O']))\n",
    "    \n",
    "    # Check for duplicates\n",
    "    print('\\n\\n Number of Duplicate Values = ', df.duplicated().sum())"
   ]
  },
  {
   "cell_type": "code",
   "execution_count": 4,
   "metadata": {
    "ExecuteTime": {
     "end_time": "2020-06-25T18:31:58.967914Z",
     "start_time": "2020-06-25T18:31:51.054757Z"
    }
   },
   "outputs": [
    {
     "name": "stdout",
     "output_type": "stream",
     "text": [
      "<class 'pandas.core.frame.DataFrame'>\n",
      "RangeIndex: 1000000 entries, 0 to 999999\n",
      "Data columns (total 8 columns):\n",
      " #   Column               Non-Null Count    Dtype \n",
      "---  ------               --------------    ----- \n",
      " 0   jobId                1000000 non-null  object\n",
      " 1   companyId            1000000 non-null  object\n",
      " 2   jobType              1000000 non-null  object\n",
      " 3   degree               1000000 non-null  object\n",
      " 4   major                1000000 non-null  object\n",
      " 5   industry             1000000 non-null  object\n",
      " 6   yearsExperience      1000000 non-null  int64 \n",
      " 7   milesFromMetropolis  1000000 non-null  int64 \n",
      "dtypes: int64(2), object(6)\n",
      "memory usage: 61.0+ MB\n",
      "None\n",
      "\n",
      "\n",
      "First five rows\n",
      "--------------------\n",
      "              jobId companyId         jobType       degree      major  \\\n",
      "0  JOB1362684407687    COMP37             CFO      MASTERS       MATH   \n",
      "1  JOB1362684407688    COMP19             CEO  HIGH_SCHOOL       NONE   \n",
      "2  JOB1362684407689    COMP52  VICE_PRESIDENT     DOCTORAL    PHYSICS   \n",
      "3  JOB1362684407690    COMP38         MANAGER     DOCTORAL  CHEMISTRY   \n",
      "4  JOB1362684407691     COMP7  VICE_PRESIDENT    BACHELORS    PHYSICS   \n",
      "\n",
      "  industry  yearsExperience  milesFromMetropolis  \n",
      "0   HEALTH               10                   83  \n",
      "1      WEB                3                   73  \n",
      "2   HEALTH               10                   38  \n",
      "3     AUTO                8                   17  \n",
      "4  FINANCE                8                   16  \n",
      "\n",
      "\n",
      " Descriptive Information for Numerical Variables\n",
      "--------------------\n",
      "       yearsExperience  milesFromMetropolis\n",
      "count   1000000.000000       1000000.000000\n",
      "mean         11.992386            49.529260\n",
      "std           7.212391            28.877733\n",
      "min           0.000000             0.000000\n",
      "25%           6.000000            25.000000\n",
      "50%          12.000000            50.000000\n",
      "75%          18.000000            75.000000\n",
      "max          24.000000            99.000000\n",
      "\n",
      "\n",
      " Descriptive Information for Categorical Variables\n",
      "--------------------\n",
      "                   jobId companyId  jobType       degree    major industry\n",
      "count            1000000   1000000  1000000      1000000  1000000  1000000\n",
      "unique           1000000        63        8            5        9        7\n",
      "top     JOB1362684727904    COMP39   SENIOR  HIGH_SCHOOL     NONE      WEB\n",
      "freq                   1     16193   125886       236976   532355   143206\n",
      "\n",
      "\n",
      " Number of Duplicate Values =  0\n"
     ]
    }
   ],
   "source": [
    "examine_df(df_train_features)"
   ]
  },
  {
   "cell_type": "code",
   "execution_count": 5,
   "metadata": {
    "ExecuteTime": {
     "end_time": "2020-06-25T18:32:03.333377Z",
     "start_time": "2020-06-25T18:31:58.967914Z"
    }
   },
   "outputs": [
    {
     "name": "stdout",
     "output_type": "stream",
     "text": [
      "<class 'pandas.core.frame.DataFrame'>\n",
      "RangeIndex: 1000000 entries, 0 to 999999\n",
      "Data columns (total 2 columns):\n",
      " #   Column  Non-Null Count    Dtype \n",
      "---  ------  --------------    ----- \n",
      " 0   jobId   1000000 non-null  object\n",
      " 1   salary  1000000 non-null  int64 \n",
      "dtypes: int64(1), object(1)\n",
      "memory usage: 15.3+ MB\n",
      "None\n",
      "\n",
      "\n",
      "First five rows\n",
      "--------------------\n",
      "              jobId  salary\n",
      "0  JOB1362684407687     130\n",
      "1  JOB1362684407688     101\n",
      "2  JOB1362684407689     137\n",
      "3  JOB1362684407690     142\n",
      "4  JOB1362684407691     163\n",
      "\n",
      "\n",
      " Descriptive Information for Numerical Variables\n",
      "--------------------\n",
      "               salary\n",
      "count  1000000.000000\n",
      "mean       116.061818\n",
      "std         38.717936\n",
      "min          0.000000\n",
      "25%         88.000000\n",
      "50%        114.000000\n",
      "75%        141.000000\n",
      "max        301.000000\n",
      "\n",
      "\n",
      " Descriptive Information for Categorical Variables\n",
      "--------------------\n",
      "                   jobId\n",
      "count            1000000\n",
      "unique           1000000\n",
      "top     JOB1362684727904\n",
      "freq                   1\n",
      "\n",
      "\n",
      " Number of Duplicate Values =  0\n"
     ]
    }
   ],
   "source": [
    "examine_df(df_train_target)"
   ]
  },
  {
   "cell_type": "markdown",
   "metadata": {},
   "source": [
    "**Observation:** \n",
    "\n",
    "- There are no null values and no duplicates for the two 'train' dataframes.  \n",
    "- All variables seem reasonable except for 'salary' (check for potential outliers)"
   ]
  },
  {
   "cell_type": "code",
   "execution_count": 6,
   "metadata": {
    "ExecuteTime": {
     "end_time": "2020-06-25T18:32:06.567775Z",
     "start_time": "2020-06-25T18:32:03.333377Z"
    }
   },
   "outputs": [
    {
     "data": {
      "text/html": [
       "<div>\n",
       "<style scoped>\n",
       "    .dataframe tbody tr th:only-of-type {\n",
       "        vertical-align: middle;\n",
       "    }\n",
       "\n",
       "    .dataframe tbody tr th {\n",
       "        vertical-align: top;\n",
       "    }\n",
       "\n",
       "    .dataframe thead th {\n",
       "        text-align: right;\n",
       "    }\n",
       "</style>\n",
       "<table border=\"1\" class=\"dataframe\">\n",
       "  <thead>\n",
       "    <tr style=\"text-align: right;\">\n",
       "      <th></th>\n",
       "      <th>job_id</th>\n",
       "      <th>company_id</th>\n",
       "      <th>job_type</th>\n",
       "      <th>degree</th>\n",
       "      <th>major</th>\n",
       "      <th>industry</th>\n",
       "      <th>years_experience</th>\n",
       "      <th>miles_from_metropolis</th>\n",
       "      <th>salary</th>\n",
       "    </tr>\n",
       "  </thead>\n",
       "  <tbody>\n",
       "    <tr>\n",
       "      <th>0</th>\n",
       "      <td>JOB1362684407687</td>\n",
       "      <td>COMP37</td>\n",
       "      <td>CFO</td>\n",
       "      <td>MASTERS</td>\n",
       "      <td>MATH</td>\n",
       "      <td>HEALTH</td>\n",
       "      <td>10</td>\n",
       "      <td>83</td>\n",
       "      <td>130</td>\n",
       "    </tr>\n",
       "    <tr>\n",
       "      <th>1</th>\n",
       "      <td>JOB1362684407688</td>\n",
       "      <td>COMP19</td>\n",
       "      <td>CEO</td>\n",
       "      <td>HIGH_SCHOOL</td>\n",
       "      <td>NONE</td>\n",
       "      <td>WEB</td>\n",
       "      <td>3</td>\n",
       "      <td>73</td>\n",
       "      <td>101</td>\n",
       "    </tr>\n",
       "    <tr>\n",
       "      <th>2</th>\n",
       "      <td>JOB1362684407689</td>\n",
       "      <td>COMP52</td>\n",
       "      <td>VICE_PRESIDENT</td>\n",
       "      <td>DOCTORAL</td>\n",
       "      <td>PHYSICS</td>\n",
       "      <td>HEALTH</td>\n",
       "      <td>10</td>\n",
       "      <td>38</td>\n",
       "      <td>137</td>\n",
       "    </tr>\n",
       "    <tr>\n",
       "      <th>3</th>\n",
       "      <td>JOB1362684407690</td>\n",
       "      <td>COMP38</td>\n",
       "      <td>MANAGER</td>\n",
       "      <td>DOCTORAL</td>\n",
       "      <td>CHEMISTRY</td>\n",
       "      <td>AUTO</td>\n",
       "      <td>8</td>\n",
       "      <td>17</td>\n",
       "      <td>142</td>\n",
       "    </tr>\n",
       "    <tr>\n",
       "      <th>4</th>\n",
       "      <td>JOB1362684407691</td>\n",
       "      <td>COMP7</td>\n",
       "      <td>VICE_PRESIDENT</td>\n",
       "      <td>BACHELORS</td>\n",
       "      <td>PHYSICS</td>\n",
       "      <td>FINANCE</td>\n",
       "      <td>8</td>\n",
       "      <td>16</td>\n",
       "      <td>163</td>\n",
       "    </tr>\n",
       "  </tbody>\n",
       "</table>\n",
       "</div>"
      ],
      "text/plain": [
       "             job_id company_id        job_type       degree      major  \\\n",
       "0  JOB1362684407687     COMP37             CFO      MASTERS       MATH   \n",
       "1  JOB1362684407688     COMP19             CEO  HIGH_SCHOOL       NONE   \n",
       "2  JOB1362684407689     COMP52  VICE_PRESIDENT     DOCTORAL    PHYSICS   \n",
       "3  JOB1362684407690     COMP38         MANAGER     DOCTORAL  CHEMISTRY   \n",
       "4  JOB1362684407691      COMP7  VICE_PRESIDENT    BACHELORS    PHYSICS   \n",
       "\n",
       "  industry  years_experience  miles_from_metropolis  salary  \n",
       "0   HEALTH                10                     83     130  \n",
       "1      WEB                 3                     73     101  \n",
       "2   HEALTH                10                     38     137  \n",
       "3     AUTO                 8                     17     142  \n",
       "4  FINANCE                 8                     16     163  "
      ]
     },
     "execution_count": 6,
     "metadata": {},
     "output_type": "execute_result"
    }
   ],
   "source": [
    "# Merging the training dataframes for further analysis\n",
    "train_df = pd.merge(df_train_features, df_train_target, on = 'jobId')\n",
    "\n",
    "# Renaming columns \n",
    "train_df.rename({'jobId' : 'job_id',\n",
    "                'companyId' : 'company_id',\n",
    "                'jobType' : 'job_type',\n",
    "                'yearsExperience' : 'years_experience',\n",
    "                'milesFromMetropolis' : 'miles_from_metropolis'}, axis = 1, inplace = True)\n",
    "\n",
    "df_test_features.rename({'jobId' : 'job_id',\n",
    "                'companyId' : 'company_id',\n",
    "                'jobType' : 'job_type',\n",
    "                'yearsExperience' : 'years_experience',\n",
    "                'milesFromMetropolis' : 'miles_from_metropolis'}, axis = 1, inplace = True)\n",
    "\n",
    "train_df.head()"
   ]
  },
  {
   "cell_type": "markdown",
   "metadata": {},
   "source": [
    "### Analyzing Outliers"
   ]
  },
  {
   "cell_type": "code",
   "execution_count": 7,
   "metadata": {
    "ExecuteTime": {
     "end_time": "2020-06-25T18:32:06.731825Z",
     "start_time": "2020-06-25T18:32:06.583774Z"
    }
   },
   "outputs": [
    {
     "name": "stdout",
     "output_type": "stream",
     "text": [
      "Lower Outlier Threshold =  8.5\n",
      "Upper Outlier Threshold =  220.5\n"
     ]
    }
   ],
   "source": [
    "# Defining outlier criteria using IQR\n",
    "summary = train_df['salary'].describe()\n",
    "IQR = summary['75%'] - summary['25%']\n",
    "upper_bound = summary['75%'] + 1.5 * IQR\n",
    "lower_bound = summary['25%'] - 1.5 * IQR\n",
    "\n",
    "print('Lower Outlier Threshold = ', lower_bound)\n",
    "print('Upper Outlier Threshold = ', upper_bound)"
   ]
  },
  {
   "cell_type": "code",
   "execution_count": 8,
   "metadata": {
    "ExecuteTime": {
     "end_time": "2020-06-25T18:32:06.787825Z",
     "start_time": "2020-06-25T18:32:06.739826Z"
    }
   },
   "outputs": [
    {
     "name": "stdout",
     "output_type": "stream",
     "text": [
      "Number of rows below lower bound =  5\n",
      "Number of rows above upper bound =  7117\n"
     ]
    }
   ],
   "source": [
    "# Analyzing entries outside outlier threshold\n",
    "print('Number of rows below lower bound = ', train_df[train_df['salary'] < lower_bound].shape[0])\n",
    "print('Number of rows above upper bound = ', train_df[train_df['salary'] > upper_bound].shape[0])"
   ]
  },
  {
   "cell_type": "markdown",
   "metadata": {},
   "source": [
    "**Observation:**\n",
    "\n",
    "Although the percent of rows with outlier salaries is only a small percentage (0.7%) of the entire dataframe, we will analyze the outliers to see which rows should be kept and discarded.  We will analyze outliers based on `job_type`."
   ]
  },
  {
   "cell_type": "code",
   "execution_count": 9,
   "metadata": {
    "ExecuteTime": {
     "end_time": "2020-06-25T18:32:06.947852Z",
     "start_time": "2020-06-25T18:32:06.787825Z"
    }
   },
   "outputs": [
    {
     "data": {
      "text/html": [
       "<div>\n",
       "<style scoped>\n",
       "    .dataframe tbody tr th:only-of-type {\n",
       "        vertical-align: middle;\n",
       "    }\n",
       "\n",
       "    .dataframe tbody tr th {\n",
       "        vertical-align: top;\n",
       "    }\n",
       "\n",
       "    .dataframe thead th {\n",
       "        text-align: right;\n",
       "    }\n",
       "</style>\n",
       "<table border=\"1\" class=\"dataframe\">\n",
       "  <thead>\n",
       "    <tr style=\"text-align: right;\">\n",
       "      <th></th>\n",
       "      <th>job_id</th>\n",
       "      <th>company_id</th>\n",
       "      <th>job_type</th>\n",
       "      <th>degree</th>\n",
       "      <th>major</th>\n",
       "      <th>industry</th>\n",
       "      <th>years_experience</th>\n",
       "      <th>miles_from_metropolis</th>\n",
       "      <th>salary</th>\n",
       "    </tr>\n",
       "  </thead>\n",
       "  <tbody>\n",
       "    <tr>\n",
       "      <th>30559</th>\n",
       "      <td>JOB1362684438246</td>\n",
       "      <td>COMP44</td>\n",
       "      <td>JUNIOR</td>\n",
       "      <td>DOCTORAL</td>\n",
       "      <td>MATH</td>\n",
       "      <td>AUTO</td>\n",
       "      <td>11</td>\n",
       "      <td>7</td>\n",
       "      <td>0</td>\n",
       "    </tr>\n",
       "    <tr>\n",
       "      <th>495984</th>\n",
       "      <td>JOB1362684903671</td>\n",
       "      <td>COMP34</td>\n",
       "      <td>JUNIOR</td>\n",
       "      <td>NONE</td>\n",
       "      <td>NONE</td>\n",
       "      <td>OIL</td>\n",
       "      <td>1</td>\n",
       "      <td>25</td>\n",
       "      <td>0</td>\n",
       "    </tr>\n",
       "    <tr>\n",
       "      <th>652076</th>\n",
       "      <td>JOB1362685059763</td>\n",
       "      <td>COMP25</td>\n",
       "      <td>CTO</td>\n",
       "      <td>HIGH_SCHOOL</td>\n",
       "      <td>NONE</td>\n",
       "      <td>AUTO</td>\n",
       "      <td>6</td>\n",
       "      <td>60</td>\n",
       "      <td>0</td>\n",
       "    </tr>\n",
       "    <tr>\n",
       "      <th>816129</th>\n",
       "      <td>JOB1362685223816</td>\n",
       "      <td>COMP42</td>\n",
       "      <td>MANAGER</td>\n",
       "      <td>DOCTORAL</td>\n",
       "      <td>ENGINEERING</td>\n",
       "      <td>FINANCE</td>\n",
       "      <td>18</td>\n",
       "      <td>6</td>\n",
       "      <td>0</td>\n",
       "    </tr>\n",
       "    <tr>\n",
       "      <th>828156</th>\n",
       "      <td>JOB1362685235843</td>\n",
       "      <td>COMP40</td>\n",
       "      <td>VICE_PRESIDENT</td>\n",
       "      <td>MASTERS</td>\n",
       "      <td>ENGINEERING</td>\n",
       "      <td>WEB</td>\n",
       "      <td>3</td>\n",
       "      <td>29</td>\n",
       "      <td>0</td>\n",
       "    </tr>\n",
       "  </tbody>\n",
       "</table>\n",
       "</div>"
      ],
      "text/plain": [
       "                  job_id company_id        job_type       degree        major  \\\n",
       "30559   JOB1362684438246     COMP44          JUNIOR     DOCTORAL         MATH   \n",
       "495984  JOB1362684903671     COMP34          JUNIOR         NONE         NONE   \n",
       "652076  JOB1362685059763     COMP25             CTO  HIGH_SCHOOL         NONE   \n",
       "816129  JOB1362685223816     COMP42         MANAGER     DOCTORAL  ENGINEERING   \n",
       "828156  JOB1362685235843     COMP40  VICE_PRESIDENT      MASTERS  ENGINEERING   \n",
       "\n",
       "       industry  years_experience  miles_from_metropolis  salary  \n",
       "30559      AUTO                11                      7       0  \n",
       "495984      OIL                 1                     25       0  \n",
       "652076     AUTO                 6                     60       0  \n",
       "816129  FINANCE                18                      6       0  \n",
       "828156      WEB                 3                     29       0  "
      ]
     },
     "execution_count": 9,
     "metadata": {},
     "output_type": "execute_result"
    }
   ],
   "source": [
    "# Lower bound outliers\n",
    "train_df[train_df['salary'] < lower_bound]"
   ]
  },
  {
   "cell_type": "code",
   "execution_count": 10,
   "metadata": {
    "ExecuteTime": {
     "end_time": "2020-06-25T18:32:07.035824Z",
     "start_time": "2020-06-25T18:32:06.947852Z"
    }
   },
   "outputs": [
    {
     "data": {
      "text/plain": [
       "CEO               3227\n",
       "CFO               1496\n",
       "CTO               1488\n",
       "VICE_PRESIDENT     603\n",
       "MANAGER            217\n",
       "SENIOR              66\n",
       "JUNIOR              20\n",
       "Name: job_type, dtype: int64"
      ]
     },
     "execution_count": 10,
     "metadata": {},
     "output_type": "execute_result"
    }
   ],
   "source": [
    "# Upper bound outliers\n",
    "train_df[train_df['salary'] > upper_bound]['job_type'].value_counts()"
   ]
  },
  {
   "cell_type": "code",
   "execution_count": 11,
   "metadata": {
    "ExecuteTime": {
     "end_time": "2020-06-25T18:32:07.500665Z",
     "start_time": "2020-06-25T18:32:07.035824Z"
    }
   },
   "outputs": [
    {
     "data": {
      "text/html": [
       "<div>\n",
       "<style scoped>\n",
       "    .dataframe tbody tr th:only-of-type {\n",
       "        vertical-align: middle;\n",
       "    }\n",
       "\n",
       "    .dataframe tbody tr th {\n",
       "        vertical-align: top;\n",
       "    }\n",
       "\n",
       "    .dataframe thead th {\n",
       "        text-align: right;\n",
       "    }\n",
       "</style>\n",
       "<table border=\"1\" class=\"dataframe\">\n",
       "  <thead>\n",
       "    <tr style=\"text-align: right;\">\n",
       "      <th></th>\n",
       "      <th>job_id</th>\n",
       "      <th>company_id</th>\n",
       "      <th>job_type</th>\n",
       "      <th>degree</th>\n",
       "      <th>major</th>\n",
       "      <th>industry</th>\n",
       "      <th>years_experience</th>\n",
       "      <th>miles_from_metropolis</th>\n",
       "      <th>salary</th>\n",
       "    </tr>\n",
       "  </thead>\n",
       "  <tbody>\n",
       "    <tr>\n",
       "      <th>1222</th>\n",
       "      <td>JOB1362684408909</td>\n",
       "      <td>COMP40</td>\n",
       "      <td>JUNIOR</td>\n",
       "      <td>MASTERS</td>\n",
       "      <td>COMPSCI</td>\n",
       "      <td>OIL</td>\n",
       "      <td>24</td>\n",
       "      <td>5</td>\n",
       "      <td>225</td>\n",
       "    </tr>\n",
       "    <tr>\n",
       "      <th>27710</th>\n",
       "      <td>JOB1362684435397</td>\n",
       "      <td>COMP21</td>\n",
       "      <td>JUNIOR</td>\n",
       "      <td>DOCTORAL</td>\n",
       "      <td>ENGINEERING</td>\n",
       "      <td>OIL</td>\n",
       "      <td>24</td>\n",
       "      <td>3</td>\n",
       "      <td>246</td>\n",
       "    </tr>\n",
       "    <tr>\n",
       "      <th>31355</th>\n",
       "      <td>JOB1362684439042</td>\n",
       "      <td>COMP45</td>\n",
       "      <td>JUNIOR</td>\n",
       "      <td>DOCTORAL</td>\n",
       "      <td>COMPSCI</td>\n",
       "      <td>FINANCE</td>\n",
       "      <td>24</td>\n",
       "      <td>0</td>\n",
       "      <td>225</td>\n",
       "    </tr>\n",
       "    <tr>\n",
       "      <th>100042</th>\n",
       "      <td>JOB1362684507729</td>\n",
       "      <td>COMP17</td>\n",
       "      <td>JUNIOR</td>\n",
       "      <td>DOCTORAL</td>\n",
       "      <td>BUSINESS</td>\n",
       "      <td>FINANCE</td>\n",
       "      <td>23</td>\n",
       "      <td>8</td>\n",
       "      <td>248</td>\n",
       "    </tr>\n",
       "    <tr>\n",
       "      <th>160333</th>\n",
       "      <td>JOB1362684568020</td>\n",
       "      <td>COMP18</td>\n",
       "      <td>JUNIOR</td>\n",
       "      <td>DOCTORAL</td>\n",
       "      <td>BUSINESS</td>\n",
       "      <td>FINANCE</td>\n",
       "      <td>22</td>\n",
       "      <td>3</td>\n",
       "      <td>223</td>\n",
       "    </tr>\n",
       "    <tr>\n",
       "      <th>189582</th>\n",
       "      <td>JOB1362684597269</td>\n",
       "      <td>COMP32</td>\n",
       "      <td>JUNIOR</td>\n",
       "      <td>DOCTORAL</td>\n",
       "      <td>BUSINESS</td>\n",
       "      <td>OIL</td>\n",
       "      <td>24</td>\n",
       "      <td>11</td>\n",
       "      <td>221</td>\n",
       "    </tr>\n",
       "    <tr>\n",
       "      <th>214606</th>\n",
       "      <td>JOB1362684622293</td>\n",
       "      <td>COMP47</td>\n",
       "      <td>JUNIOR</td>\n",
       "      <td>MASTERS</td>\n",
       "      <td>BUSINESS</td>\n",
       "      <td>FINANCE</td>\n",
       "      <td>22</td>\n",
       "      <td>4</td>\n",
       "      <td>222</td>\n",
       "    </tr>\n",
       "    <tr>\n",
       "      <th>303778</th>\n",
       "      <td>JOB1362684711465</td>\n",
       "      <td>COMP51</td>\n",
       "      <td>JUNIOR</td>\n",
       "      <td>MASTERS</td>\n",
       "      <td>ENGINEERING</td>\n",
       "      <td>WEB</td>\n",
       "      <td>24</td>\n",
       "      <td>2</td>\n",
       "      <td>226</td>\n",
       "    </tr>\n",
       "    <tr>\n",
       "      <th>348354</th>\n",
       "      <td>JOB1362684756041</td>\n",
       "      <td>COMP56</td>\n",
       "      <td>JUNIOR</td>\n",
       "      <td>DOCTORAL</td>\n",
       "      <td>ENGINEERING</td>\n",
       "      <td>OIL</td>\n",
       "      <td>23</td>\n",
       "      <td>25</td>\n",
       "      <td>226</td>\n",
       "    </tr>\n",
       "    <tr>\n",
       "      <th>427593</th>\n",
       "      <td>JOB1362684835280</td>\n",
       "      <td>COMP54</td>\n",
       "      <td>JUNIOR</td>\n",
       "      <td>DOCTORAL</td>\n",
       "      <td>ENGINEERING</td>\n",
       "      <td>FINANCE</td>\n",
       "      <td>23</td>\n",
       "      <td>3</td>\n",
       "      <td>221</td>\n",
       "    </tr>\n",
       "    <tr>\n",
       "      <th>500739</th>\n",
       "      <td>JOB1362684908426</td>\n",
       "      <td>COMP40</td>\n",
       "      <td>JUNIOR</td>\n",
       "      <td>DOCTORAL</td>\n",
       "      <td>ENGINEERING</td>\n",
       "      <td>OIL</td>\n",
       "      <td>21</td>\n",
       "      <td>0</td>\n",
       "      <td>227</td>\n",
       "    </tr>\n",
       "    <tr>\n",
       "      <th>627534</th>\n",
       "      <td>JOB1362685035221</td>\n",
       "      <td>COMP5</td>\n",
       "      <td>JUNIOR</td>\n",
       "      <td>DOCTORAL</td>\n",
       "      <td>ENGINEERING</td>\n",
       "      <td>OIL</td>\n",
       "      <td>24</td>\n",
       "      <td>29</td>\n",
       "      <td>230</td>\n",
       "    </tr>\n",
       "    <tr>\n",
       "      <th>645555</th>\n",
       "      <td>JOB1362685053242</td>\n",
       "      <td>COMP36</td>\n",
       "      <td>JUNIOR</td>\n",
       "      <td>DOCTORAL</td>\n",
       "      <td>BUSINESS</td>\n",
       "      <td>FINANCE</td>\n",
       "      <td>24</td>\n",
       "      <td>1</td>\n",
       "      <td>225</td>\n",
       "    </tr>\n",
       "    <tr>\n",
       "      <th>656572</th>\n",
       "      <td>JOB1362685064259</td>\n",
       "      <td>COMP28</td>\n",
       "      <td>JUNIOR</td>\n",
       "      <td>DOCTORAL</td>\n",
       "      <td>BUSINESS</td>\n",
       "      <td>OIL</td>\n",
       "      <td>22</td>\n",
       "      <td>3</td>\n",
       "      <td>222</td>\n",
       "    </tr>\n",
       "    <tr>\n",
       "      <th>685775</th>\n",
       "      <td>JOB1362685093462</td>\n",
       "      <td>COMP38</td>\n",
       "      <td>JUNIOR</td>\n",
       "      <td>BACHELORS</td>\n",
       "      <td>ENGINEERING</td>\n",
       "      <td>OIL</td>\n",
       "      <td>24</td>\n",
       "      <td>13</td>\n",
       "      <td>225</td>\n",
       "    </tr>\n",
       "    <tr>\n",
       "      <th>743326</th>\n",
       "      <td>JOB1362685151013</td>\n",
       "      <td>COMP14</td>\n",
       "      <td>JUNIOR</td>\n",
       "      <td>DOCTORAL</td>\n",
       "      <td>BUSINESS</td>\n",
       "      <td>FINANCE</td>\n",
       "      <td>19</td>\n",
       "      <td>0</td>\n",
       "      <td>236</td>\n",
       "    </tr>\n",
       "    <tr>\n",
       "      <th>787674</th>\n",
       "      <td>JOB1362685195361</td>\n",
       "      <td>COMP43</td>\n",
       "      <td>JUNIOR</td>\n",
       "      <td>DOCTORAL</td>\n",
       "      <td>BUSINESS</td>\n",
       "      <td>FINANCE</td>\n",
       "      <td>18</td>\n",
       "      <td>15</td>\n",
       "      <td>232</td>\n",
       "    </tr>\n",
       "    <tr>\n",
       "      <th>796956</th>\n",
       "      <td>JOB1362685204643</td>\n",
       "      <td>COMP30</td>\n",
       "      <td>JUNIOR</td>\n",
       "      <td>MASTERS</td>\n",
       "      <td>BUSINESS</td>\n",
       "      <td>OIL</td>\n",
       "      <td>24</td>\n",
       "      <td>2</td>\n",
       "      <td>228</td>\n",
       "    </tr>\n",
       "    <tr>\n",
       "      <th>855219</th>\n",
       "      <td>JOB1362685262906</td>\n",
       "      <td>COMP13</td>\n",
       "      <td>JUNIOR</td>\n",
       "      <td>MASTERS</td>\n",
       "      <td>ENGINEERING</td>\n",
       "      <td>OIL</td>\n",
       "      <td>22</td>\n",
       "      <td>26</td>\n",
       "      <td>225</td>\n",
       "    </tr>\n",
       "    <tr>\n",
       "      <th>954368</th>\n",
       "      <td>JOB1362685362055</td>\n",
       "      <td>COMP11</td>\n",
       "      <td>JUNIOR</td>\n",
       "      <td>DOCTORAL</td>\n",
       "      <td>BUSINESS</td>\n",
       "      <td>OIL</td>\n",
       "      <td>24</td>\n",
       "      <td>26</td>\n",
       "      <td>223</td>\n",
       "    </tr>\n",
       "  </tbody>\n",
       "</table>\n",
       "</div>"
      ],
      "text/plain": [
       "                  job_id company_id job_type     degree        major industry  \\\n",
       "1222    JOB1362684408909     COMP40   JUNIOR    MASTERS      COMPSCI      OIL   \n",
       "27710   JOB1362684435397     COMP21   JUNIOR   DOCTORAL  ENGINEERING      OIL   \n",
       "31355   JOB1362684439042     COMP45   JUNIOR   DOCTORAL      COMPSCI  FINANCE   \n",
       "100042  JOB1362684507729     COMP17   JUNIOR   DOCTORAL     BUSINESS  FINANCE   \n",
       "160333  JOB1362684568020     COMP18   JUNIOR   DOCTORAL     BUSINESS  FINANCE   \n",
       "189582  JOB1362684597269     COMP32   JUNIOR   DOCTORAL     BUSINESS      OIL   \n",
       "214606  JOB1362684622293     COMP47   JUNIOR    MASTERS     BUSINESS  FINANCE   \n",
       "303778  JOB1362684711465     COMP51   JUNIOR    MASTERS  ENGINEERING      WEB   \n",
       "348354  JOB1362684756041     COMP56   JUNIOR   DOCTORAL  ENGINEERING      OIL   \n",
       "427593  JOB1362684835280     COMP54   JUNIOR   DOCTORAL  ENGINEERING  FINANCE   \n",
       "500739  JOB1362684908426     COMP40   JUNIOR   DOCTORAL  ENGINEERING      OIL   \n",
       "627534  JOB1362685035221      COMP5   JUNIOR   DOCTORAL  ENGINEERING      OIL   \n",
       "645555  JOB1362685053242     COMP36   JUNIOR   DOCTORAL     BUSINESS  FINANCE   \n",
       "656572  JOB1362685064259     COMP28   JUNIOR   DOCTORAL     BUSINESS      OIL   \n",
       "685775  JOB1362685093462     COMP38   JUNIOR  BACHELORS  ENGINEERING      OIL   \n",
       "743326  JOB1362685151013     COMP14   JUNIOR   DOCTORAL     BUSINESS  FINANCE   \n",
       "787674  JOB1362685195361     COMP43   JUNIOR   DOCTORAL     BUSINESS  FINANCE   \n",
       "796956  JOB1362685204643     COMP30   JUNIOR    MASTERS     BUSINESS      OIL   \n",
       "855219  JOB1362685262906     COMP13   JUNIOR    MASTERS  ENGINEERING      OIL   \n",
       "954368  JOB1362685362055     COMP11   JUNIOR   DOCTORAL     BUSINESS      OIL   \n",
       "\n",
       "        years_experience  miles_from_metropolis  salary  \n",
       "1222                  24                      5     225  \n",
       "27710                 24                      3     246  \n",
       "31355                 24                      0     225  \n",
       "100042                23                      8     248  \n",
       "160333                22                      3     223  \n",
       "189582                24                     11     221  \n",
       "214606                22                      4     222  \n",
       "303778                24                      2     226  \n",
       "348354                23                     25     226  \n",
       "427593                23                      3     221  \n",
       "500739                21                      0     227  \n",
       "627534                24                     29     230  \n",
       "645555                24                      1     225  \n",
       "656572                22                      3     222  \n",
       "685775                24                     13     225  \n",
       "743326                19                      0     236  \n",
       "787674                18                     15     232  \n",
       "796956                24                      2     228  \n",
       "855219                22                     26     225  \n",
       "954368                24                     26     223  "
      ]
     },
     "execution_count": 11,
     "metadata": {},
     "output_type": "execute_result"
    }
   ],
   "source": [
    "# We can hypothesize that 'Junior' roles should not be paid above $220,500.\n",
    "# We will check these roles for anomalies\n",
    "train_df[(train_df['salary'] > upper_bound) & (train_df['job_type'] == 'JUNIOR')]"
   ]
  },
  {
   "cell_type": "markdown",
   "metadata": {},
   "source": [
    "**Observation:** \n",
    "- For jobs with salaries = 0, we can deduce that these are not volunteer positions or internships.  Corrupt data is present and we will remove these rows from the training dataframe.  \n",
    "- For `JUNIOR` roles paid greater than the upper_bound threshold, we see that all but one of these jobs requie a Master's degree or higher.  Also, the industries in this data are primarily Oil or Finance, with one instance of Web.  Since these industries can have lucrative pay, there is a possibility that `JUNIOR` roles can be paid such a large amount.  Therefore, we will not drop these rows."
   ]
  },
  {
   "cell_type": "code",
   "execution_count": 12,
   "metadata": {
    "ExecuteTime": {
     "end_time": "2020-06-25T18:32:07.766904Z",
     "start_time": "2020-06-25T18:32:07.500665Z"
    }
   },
   "outputs": [
    {
     "name": "stdout",
     "output_type": "stream",
     "text": [
      "Number of rows in new dataframe = 999995\n"
     ]
    }
   ],
   "source": [
    "# Keeping desired data\n",
    "train_df = train_df[train_df['salary'] > lower_bound]\n",
    "\n",
    "# Checking results (5 rows show be removed)\n",
    "print('Number of rows in new dataframe =', train_df.shape[0])"
   ]
  },
  {
   "cell_type": "code",
   "execution_count": 13,
   "metadata": {
    "ExecuteTime": {
     "end_time": "2020-06-25T18:32:07.934884Z",
     "start_time": "2020-06-25T18:32:07.766904Z"
    }
   },
   "outputs": [
    {
     "data": {
      "text/plain": [
       "(999995, 9)"
      ]
     },
     "execution_count": 13,
     "metadata": {},
     "output_type": "execute_result"
    }
   ],
   "source": [
    "# Copy dataframe for use in modeling (Part 3)\n",
    "clean_model_train_df = train_df.copy()\n",
    "clean_model_train_df.shape"
   ]
  },
  {
   "cell_type": "markdown",
   "metadata": {},
   "source": [
    "## Explorartory Data Analysis"
   ]
  },
  {
   "cell_type": "code",
   "execution_count": 14,
   "metadata": {
    "ExecuteTime": {
     "end_time": "2020-06-25T18:32:07.950883Z",
     "start_time": "2020-06-25T18:32:07.934884Z"
    }
   },
   "outputs": [],
   "source": [
    "#summarize each feature variable\n",
    "#summarize the target variable\n",
    "#look for correlation between each feature and the target\n",
    "#look for correlation between features"
   ]
  },
  {
   "cell_type": "code",
   "execution_count": 15,
   "metadata": {
    "ExecuteTime": {
     "end_time": "2020-06-25T18:32:08.054883Z",
     "start_time": "2020-06-25T18:32:07.950883Z"
    }
   },
   "outputs": [],
   "source": [
    "# Cateogrizing variables into different groups\n",
    "# job_id not included because each ID is unique and will not be helpful for analysis\n",
    "\n",
    "numerical_features = ['years_experience', 'miles_from_metropolis']\n",
    "categorical_features = ['company_id', 'job_type', 'degree', 'major', 'industry']\n",
    "target = ['salary']"
   ]
  },
  {
   "cell_type": "code",
   "execution_count": 16,
   "metadata": {
    "ExecuteTime": {
     "end_time": "2020-06-25T18:32:10.819222Z",
     "start_time": "2020-06-25T18:32:08.054883Z"
    }
   },
   "outputs": [
    {
     "data": {
      "image/png": "[encoded data removed]",
      "text/plain": [
       "<Figure size 1296x432 with 2 Axes>"
      ]
     },
     "metadata": {
      "needs_background": "light"
     },
     "output_type": "display_data"
    }
   ],
   "source": [
    "# Visualizing the target variable\n",
    "\n",
    "plt.figure(figsize = (18, 6))\n",
    "plt.subplot(1, 2, 1)\n",
    "sns.boxplot(train_df[target])\n",
    "plt.subplot(1, 2, 2)\n",
    "sns.distplot(train_df[target], color = 'red', bins = 30)\n",
    "plt.show()"
   ]
  },
  {
   "cell_type": "markdown",
   "metadata": {},
   "source": [
    "**Observation:** `Salary` is right-skewed but has a shape of a normal distribution"
   ]
  },
  {
   "cell_type": "code",
   "execution_count": 17,
   "metadata": {
    "ExecuteTime": {
     "end_time": "2020-06-25T18:32:10.851424Z",
     "start_time": "2020-06-25T18:32:10.819222Z"
    }
   },
   "outputs": [],
   "source": [
    "def plot(df,col):\n",
    "    plt.figure(figsize=[14,8])\n",
    "    if df[col].dtype == 'int64' or col == 'companyId':\n",
    "        mean = df.groupby(col)['salary'].mean().plot()\n",
    "        plt.xlabel(col)\n",
    "        plt.ylabel(\"Mean Salary\")\n",
    "        plt.xlabel(col.upper().replace('_', ' '), fontsize = 16)\n",
    "        plt.ylabel('AVERAGE SALARY($), IN 1000s', fontsize = 16)\n",
    "        plt.title('{} vs. AVERAGE SALARY'.format(col.upper().replace('_', ' ')), fontsize = 20)\n",
    "        plt.show()\n",
    "        \n",
    "    else:\n",
    "        mean = df.groupby(col)['salary'].mean().sort_values(ascending = True).index\n",
    "        sns.boxplot(x = col, y = 'salary', data = df, order = mean, palette = 'Set2') \n",
    "        plt.xticks(rotation = 30)\n",
    "        plt.xlabel(col.upper().replace('_', ' '), fontsize = 16)\n",
    "        plt.ylabel('SALARY($), IN 1000s ', fontsize = 16)\n",
    "        plt.title('{} vs. SALARY'.format(col.upper().replace('_', ' ')), fontsize = 20)\n",
    "        plt.show()"
   ]
  },
  {
   "cell_type": "markdown",
   "metadata": {},
   "source": [
    "### Plots (Categorical Variables vs. Target)"
   ]
  },
  {
   "cell_type": "code",
   "execution_count": 18,
   "metadata": {
    "ExecuteTime": {
     "end_time": "2020-06-25T18:32:12.660943Z",
     "start_time": "2020-06-25T18:32:10.851424Z"
    }
   },
   "outputs": [
    {
     "data": {
      "image/png": "[encoded data removed]",
      "text/plain": [
       "<Figure size 1008x576 with 1 Axes>"
      ]
     },
     "metadata": {
      "needs_background": "light"
     },
     "output_type": "display_data"
    }
   ],
   "source": [
    "plot(train_df, 'job_type')"
   ]
  },
  {
   "cell_type": "code",
   "execution_count": 19,
   "metadata": {
    "ExecuteTime": {
     "end_time": "2020-06-25T18:32:13.818268Z",
     "start_time": "2020-06-25T18:32:12.660943Z"
    }
   },
   "outputs": [
    {
     "data": {
      "image/png": "[encoded data removed]",
      "text/plain": [
       "<Figure size 1008x576 with 1 Axes>"
      ]
     },
     "metadata": {
      "needs_background": "light"
     },
     "output_type": "display_data"
    }
   ],
   "source": [
    "plot(train_df, 'degree')"
   ]
  },
  {
   "cell_type": "code",
   "execution_count": 20,
   "metadata": {
    "ExecuteTime": {
     "end_time": "2020-06-25T18:32:15.011571Z",
     "start_time": "2020-06-25T18:32:13.818268Z"
    }
   },
   "outputs": [
    {
     "data": {
      "image/png": "[encoded data removed]",
      "text/plain": [
       "<Figure size 1008x576 with 1 Axes>"
      ]
     },
     "metadata": {
      "needs_background": "light"
     },
     "output_type": "display_data"
    }
   ],
   "source": [
    "plot(train_df, 'major')"
   ]
  },
  {
   "cell_type": "code",
   "execution_count": 21,
   "metadata": {
    "ExecuteTime": {
     "end_time": "2020-06-25T18:32:16.124859Z",
     "start_time": "2020-06-25T18:32:15.011571Z"
    }
   },
   "outputs": [
    {
     "data": {
      "image/png": "[encoded data removed]",
      "text/plain": [
       "<Figure size 1008x576 with 1 Axes>"
      ]
     },
     "metadata": {
      "needs_background": "light"
     },
     "output_type": "display_data"
    }
   ],
   "source": [
    "plot(train_df, 'industry')"
   ]
  },
  {
   "cell_type": "markdown",
   "metadata": {},
   "source": [
    "**Obseravation:**\n",
    "\n",
    "- For job titles, CEOs are paid the highest and Janitors are paid the lowest.  The difference in mean salary is about 70K.  \n",
    "- For degree type, jobs requiring a Bachelor's Degree and above are paid relatively similar.  However, there is a big dropoff compared to no degree and a high school diploma.  The salary difference between these two groups is about 30K.\n",
    "- For major, there is minimal difference between salary and chosen major.  However there is a significant dropoff with those not choosing a major. People without a chosen major have an average salary 30K lower than those who chose a major.\n",
    "- For industry, Oil and Finance have the highest salaries while Education has the lowest salary.  The difference between highest to lowest industries is about 30K."
   ]
  },
  {
   "cell_type": "markdown",
   "metadata": {},
   "source": [
    "### Plots (Numerical Variables vs. Target)"
   ]
  },
  {
   "cell_type": "code",
   "execution_count": 22,
   "metadata": {
    "ExecuteTime": {
     "end_time": "2020-06-25T18:32:17.477545Z",
     "start_time": "2020-06-25T18:32:16.132856Z"
    }
   },
   "outputs": [
    {
     "data": {
      "image/png": "[encoded data removed]",
      "text/plain": [
       "<Figure size 1008x576 with 1 Axes>"
      ]
     },
     "metadata": {
      "needs_background": "light"
     },
     "output_type": "display_data"
    }
   ],
   "source": [
    "plot(train_df, 'miles_from_metropolis')"
   ]
  },
  {
   "cell_type": "code",
   "execution_count": 23,
   "metadata": {
    "ExecuteTime": {
     "end_time": "2020-06-25T18:32:18.027731Z",
     "start_time": "2020-06-25T18:32:17.485549Z"
    }
   },
   "outputs": [
    {
     "data": {
      "image/png": "[encoded data removed]",
      "text/plain": [
       "<Figure size 1008x576 with 1 Axes>"
      ]
     },
     "metadata": {
      "needs_background": "light"
     },
     "output_type": "display_data"
    }
   ],
   "source": [
    "plot(train_df, 'years_experience')"
   ]
  },
  {
   "cell_type": "markdown",
   "metadata": {},
   "source": [
    "**Observation:**\n",
    "\n",
    "- Miles from Metropolis and Average Salary have a negatively-correlated linear relationship.  Salaries generally decrease as we move away from a metropolis location.\n",
    "- Year Experience and Average Salary have a positively-correlated linear relationship.  More years experience generally leads to an increase in salary.  "
   ]
  },
  {
   "cell_type": "markdown",
   "metadata": {},
   "source": [
    "### Checking Sample Balance"
   ]
  },
  {
   "cell_type": "code",
   "execution_count": 24,
   "metadata": {
    "ExecuteTime": {
     "end_time": "2020-06-25T18:32:19.119963Z",
     "start_time": "2020-06-25T18:32:18.027731Z"
    }
   },
   "outputs": [],
   "source": [
    "for cat in categorical_features:\n",
    "    train_df[cat] = train_df[cat].astype('category')"
   ]
  },
  {
   "cell_type": "code",
   "execution_count": 25,
   "metadata": {
    "ExecuteTime": {
     "end_time": "2020-06-25T18:32:19.135960Z",
     "start_time": "2020-06-25T18:32:19.119963Z"
    }
   },
   "outputs": [],
   "source": [
    "# Encoding cateorical variables to replace label with average salary of category\n",
    "def encode_label(df, col):\n",
    "    cat_dict = {}\n",
    "    cats = df[col].cat.categories.tolist()\n",
    "    for cat in cats:\n",
    "        cat_dict[cat] = df[df[col] == cat]['salary'].mean()\n",
    "    df[col] = df[col].map(cat_dict)"
   ]
  },
  {
   "cell_type": "code",
   "execution_count": 26,
   "metadata": {
    "ExecuteTime": {
     "end_time": "2020-06-25T18:32:22.035263Z",
     "start_time": "2020-06-25T18:32:19.135960Z"
    }
   },
   "outputs": [],
   "source": [
    "# Executing the changes\n",
    "for col in train_df.columns:\n",
    "    if train_df[col].dtype.name == 'category':\n",
    "        encode_label(train_df,col)"
   ]
  },
  {
   "cell_type": "code",
   "execution_count": 27,
   "metadata": {
    "ExecuteTime": {
     "end_time": "2020-06-25T18:32:23.068406Z",
     "start_time": "2020-06-25T18:32:22.035263Z"
    }
   },
   "outputs": [],
   "source": [
    "# Changing format for some columns\n",
    "for feature in categorical_features:\n",
    "    train_df[feature] = train_df[feature].astype(float)\n",
    "    train_df[feature] = train_df[feature].round(2)"
   ]
  },
  {
   "cell_type": "code",
   "execution_count": 28,
   "metadata": {
    "ExecuteTime": {
     "end_time": "2020-06-25T18:32:23.108430Z",
     "start_time": "2020-06-25T18:32:23.068406Z"
    }
   },
   "outputs": [
    {
     "data": {
      "text/html": [
       "<div>\n",
       "<style scoped>\n",
       "    .dataframe tbody tr th:only-of-type {\n",
       "        vertical-align: middle;\n",
       "    }\n",
       "\n",
       "    .dataframe tbody tr th {\n",
       "        vertical-align: top;\n",
       "    }\n",
       "\n",
       "    .dataframe thead th {\n",
       "        text-align: right;\n",
       "    }\n",
       "</style>\n",
       "<table border=\"1\" class=\"dataframe\">\n",
       "  <thead>\n",
       "    <tr style=\"text-align: right;\">\n",
       "      <th></th>\n",
       "      <th>job_id</th>\n",
       "      <th>company_id</th>\n",
       "      <th>job_type</th>\n",
       "      <th>degree</th>\n",
       "      <th>major</th>\n",
       "      <th>industry</th>\n",
       "      <th>years_experience</th>\n",
       "      <th>miles_from_metropolis</th>\n",
       "      <th>salary</th>\n",
       "    </tr>\n",
       "  </thead>\n",
       "  <tbody>\n",
       "    <tr>\n",
       "      <th>0</th>\n",
       "      <td>JOB1362684407687</td>\n",
       "      <td>115.35</td>\n",
       "      <td>135.46</td>\n",
       "      <td>130.51</td>\n",
       "      <td>133.32</td>\n",
       "      <td>115.74</td>\n",
       "      <td>10</td>\n",
       "      <td>83</td>\n",
       "      <td>130</td>\n",
       "    </tr>\n",
       "    <tr>\n",
       "      <th>1</th>\n",
       "      <td>JOB1362684407688</td>\n",
       "      <td>115.76</td>\n",
       "      <td>145.31</td>\n",
       "      <td>101.92</td>\n",
       "      <td>102.58</td>\n",
       "      <td>121.65</td>\n",
       "      <td>3</td>\n",
       "      <td>73</td>\n",
       "      <td>101</td>\n",
       "    </tr>\n",
       "    <tr>\n",
       "      <th>2</th>\n",
       "      <td>JOB1362684407689</td>\n",
       "      <td>116.22</td>\n",
       "      <td>125.37</td>\n",
       "      <td>135.49</td>\n",
       "      <td>130.37</td>\n",
       "      <td>115.74</td>\n",
       "      <td>10</td>\n",
       "      <td>38</td>\n",
       "      <td>137</td>\n",
       "    </tr>\n",
       "    <tr>\n",
       "      <th>3</th>\n",
       "      <td>JOB1362684407690</td>\n",
       "      <td>116.20</td>\n",
       "      <td>115.37</td>\n",
       "      <td>135.49</td>\n",
       "      <td>129.07</td>\n",
       "      <td>109.44</td>\n",
       "      <td>8</td>\n",
       "      <td>17</td>\n",
       "      <td>142</td>\n",
       "    </tr>\n",
       "    <tr>\n",
       "      <th>4</th>\n",
       "      <td>JOB1362684407691</td>\n",
       "      <td>115.89</td>\n",
       "      <td>125.37</td>\n",
       "      <td>125.45</td>\n",
       "      <td>130.37</td>\n",
       "      <td>130.75</td>\n",
       "      <td>8</td>\n",
       "      <td>16</td>\n",
       "      <td>163</td>\n",
       "    </tr>\n",
       "  </tbody>\n",
       "</table>\n",
       "</div>"
      ],
      "text/plain": [
       "             job_id  company_id  job_type  degree   major  industry  \\\n",
       "0  JOB1362684407687      115.35    135.46  130.51  133.32    115.74   \n",
       "1  JOB1362684407688      115.76    145.31  101.92  102.58    121.65   \n",
       "2  JOB1362684407689      116.22    125.37  135.49  130.37    115.74   \n",
       "3  JOB1362684407690      116.20    115.37  135.49  129.07    109.44   \n",
       "4  JOB1362684407691      115.89    125.37  125.45  130.37    130.75   \n",
       "\n",
       "   years_experience  miles_from_metropolis  salary  \n",
       "0                10                     83     130  \n",
       "1                 3                     73     101  \n",
       "2                10                     38     137  \n",
       "3                 8                     17     142  \n",
       "4                 8                     16     163  "
      ]
     },
     "execution_count": 28,
     "metadata": {},
     "output_type": "execute_result"
    }
   ],
   "source": [
    "# Showing that categorical labels have been replaced with category averages\n",
    "train_df.head()"
   ]
  },
  {
   "cell_type": "code",
   "execution_count": 29,
   "metadata": {
    "ExecuteTime": {
     "end_time": "2020-06-25T18:32:25.918672Z",
     "start_time": "2020-06-25T18:32:23.108430Z"
    }
   },
   "outputs": [
    {
     "data": {
      "image/png": "[encoded data removed]",
      "text/plain": [
       "<Figure size 864x720 with 2 Axes>"
      ]
     },
     "metadata": {
      "needs_background": "light"
     },
     "output_type": "display_data"
    }
   ],
   "source": [
    "#Creating a correlation heatmap of all features and target variable\n",
    "combined_features = numerical_features + categorical_features + target\n",
    "\n",
    "fig = plt.figure(figsize = (12, 10))\n",
    "sns.heatmap(train_df[combined_features].corr(), cmap = 'coolwarm', annot = True, fmt = '0.3f')\n",
    "plt.xticks(rotation = 45)\n",
    "plt.show()"
   ]
  },
  {
   "cell_type": "markdown",
   "metadata": {},
   "source": [
    "**Observation:**\n",
    "\n",
    "The correlation heatmap shows the following relationships:\n",
    "\n",
    "- All features except company_id affect the target variable (salary) in a significant way.  This makes sense with our plots above which show some variance with each feature with respect to salary.  Job type is the feature that affects salary the strongest.  \n",
    "- There is a strong relationship between degree and major.  This makese sense since people without a college degree (i.e. None or High School) will not have a major in college.  This could explain why there is a large number of job postings with 'No Major Listed'.  "
   ]
  },
  {
   "cell_type": "markdown",
   "metadata": {},
   "source": [
    "### Establish a Baseline for Modeling Purposes"
   ]
  },
  {
   "cell_type": "code",
   "execution_count": 30,
   "metadata": {
    "ExecuteTime": {
     "end_time": "2020-06-25T18:32:29.140511Z",
     "start_time": "2020-06-25T18:32:25.918672Z"
    }
   },
   "outputs": [
    {
     "data": {
      "text/plain": [
       "LinearRegression(copy_X=True, fit_intercept=True, n_jobs=None, normalize=False)"
      ]
     },
     "execution_count": 30,
     "metadata": {},
     "output_type": "execute_result"
    }
   ],
   "source": [
    "# Since there is a significant relationship between salary and miles_from_metropolis, we will\n",
    "# do a simple linear regression using these variables as a baseline model\n",
    "from sklearn.linear_model import LinearRegression\n",
    "from sklearn.model_selection import cross_val_score\n",
    "simple_lr = LinearRegression()\n",
    "simple_lr.fit(train_df[['miles_from_metropolis']], train_df['salary'])"
   ]
  },
  {
   "cell_type": "code",
   "execution_count": 31,
   "metadata": {
    "ExecuteTime": {
     "end_time": "2020-06-25T18:32:29.156511Z",
     "start_time": "2020-06-25T18:32:29.140511Z"
    }
   },
   "outputs": [],
   "source": [
    "# Defining cross validation function for multiple models (k = 5 folds)\n",
    "def cross_validation(model, features, target):\n",
    "    result = cross_val_score(model, features, target, cv = 5, scoring = 'neg_mean_squared_error')\n",
    "    print('\\n Model:', model)\n",
    "    print('\\n Average MSE: ' + str(-result.mean()))\n",
    "    print('\\n Standard Deviation during cross-validation: ' + str(result.std()))"
   ]
  },
  {
   "cell_type": "code",
   "execution_count": 32,
   "metadata": {
    "ExecuteTime": {
     "end_time": "2020-06-25T18:32:30.754716Z",
     "start_time": "2020-06-25T18:32:29.164514Z"
    }
   },
   "outputs": [
    {
     "name": "stdout",
     "output_type": "stream",
     "text": [
      "\n",
      " Model: LinearRegression(copy_X=True, fit_intercept=True, n_jobs=None, normalize=False)\n",
      "\n",
      " Average MSE: 1366.1887433332208\n",
      "\n",
      " Standard Deviation during cross-validation: 4.098671089321314\n"
     ]
    }
   ],
   "source": [
    "cross_validation(simple_lr, train_df[['miles_from_metropolis']], train_df['salary'])"
   ]
  },
  {
   "cell_type": "markdown",
   "metadata": {
    "ExecuteTime": {
     "end_time": "2020-06-25T00:01:19.530262Z",
     "start_time": "2020-06-25T00:01:19.402263Z"
    }
   },
   "source": [
    "**Observation:**\n",
    "Our MSE value is relatively high for a baseline model.  We will create three other models to reduce MSE even further:\n",
    "\n",
    "1. Linear Regression - Since our numerical features showed a relatively linear relationship, a linear regression model with more features will be approriate to use.\n",
    "2. Random Forest - This model is good for highlighting which features affect the targer variable the most.\n",
    "3. Gradient Boosting - This model works well with linearly-related features and contains tuning parameters which can ideally reduce MSE."
   ]
  },
  {
   "cell_type": "markdown",
   "metadata": {},
   "source": [
    "## Part 3 - DEVELOP"
   ]
  },
  {
   "cell_type": "code",
   "execution_count": 33,
   "metadata": {
    "ExecuteTime": {
     "end_time": "2020-06-25T18:32:32.119765Z",
     "start_time": "2020-06-25T18:32:30.754716Z"
    }
   },
   "outputs": [],
   "source": [
    "#Importing necessary libraries\n",
    "from sklearn.ensemble import RandomForestRegressor, GradientBoostingRegressor\n",
    "from sklearn.utils import shuffle\n",
    "from sklearn.metrics import mean_squared_error"
   ]
  },
  {
   "cell_type": "markdown",
   "metadata": {},
   "source": [
    "### Define Functions for Model Development"
   ]
  },
  {
   "cell_type": "code",
   "execution_count": 34,
   "metadata": {
    "ExecuteTime": {
     "end_time": "2020-06-25T18:32:32.135764Z",
     "start_time": "2020-06-25T18:32:32.119765Z"
    }
   },
   "outputs": [],
   "source": [
    "# Function to perform one hot encoding on categorical variables and combine with numerical variables\n",
    "def one_hot_encode(df, categorical_vars = None, numeric_vars = None):\n",
    "    categorical_df = pd.get_dummies(df[categorical_vars])\n",
    "    numeric_df = df[numeric_vars].apply(pd.to_numeric)\n",
    "    return pd.concat([categorical_df, numeric_df], axis=1)\n",
    "\n",
    "# Function to return dataframe of target variable(s)\n",
    "def get_target(df, target_var):\n",
    "    return df[target_var]\n",
    "\n",
    "# # Function to train chosen models\n",
    "# def train_model(model, train, target, number_processes, mean_mse, cross_val_std):\n",
    "#     neg_mse = cross_val_score(model, train, target ,cv = 5 ,n_jobs = number_processes,\n",
    "#                               scoring = \"neg_mean_squared_error\")\n",
    "#     mean_mse[model] = -1.0 * np.mean(neg_mse)\n",
    "#     cross_val_std[model] = np.std(neg_mse)\n",
    "    \n",
    "# def print_summary(model ,mean_mse , cross_val_std):\n",
    "#     print('\\n Model:', model)\n",
    "#     print('\\n Average MSE:', mean_mse[model])\n",
    "#     print('\\n Standard Deviation during cross-validation:', cross_val_std[model])"
   ]
  },
  {
   "cell_type": "markdown",
   "metadata": {},
   "source": [
    "### Preparing Model Data"
   ]
  },
  {
   "cell_type": "code",
   "execution_count": 35,
   "metadata": {
    "ExecuteTime": {
     "end_time": "2020-06-25T18:32:39.042809Z",
     "start_time": "2020-06-25T18:32:32.135764Z"
    }
   },
   "outputs": [],
   "source": [
    "# Shuffling training dataframe to randomize and possibly improve cross-validation accuracy\n",
    "random_train_df = shuffle(clean_model_train_df).reset_index()\n",
    "\n",
    "# Encoding categorical data and finalzing features for train and test dataframes\n",
    "train_model_df = one_hot_encode(random_train_df, categorical_vars = categorical_features , numeric_vars = numerical_features)\n",
    "test_model_df = one_hot_encode(df_test_features, categorical_vars = categorical_features , numeric_vars = numerical_features)\n",
    "\n",
    "# Defining target dataframe\n",
    "target_df = get_target(random_train_df, target)\n"
   ]
  },
  {
   "cell_type": "markdown",
   "metadata": {},
   "source": [
    "### Testing the Models"
   ]
  },
  {
   "cell_type": "code",
   "execution_count": 36,
   "metadata": {
    "ExecuteTime": {
     "end_time": "2020-06-25T18:33:57.632872Z",
     "start_time": "2020-06-25T18:32:39.042809Z"
    }
   },
   "outputs": [
    {
     "name": "stdout",
     "output_type": "stream",
     "text": [
      "Model: LinearRegression(copy_X=True, fit_intercept=True, n_jobs=None, normalize=False)\n",
      "\n",
      "Average MSE: 384.44443594502616\n",
      "\n",
      "Standard Deviation during cross-validation: 0.9173765040608287\n"
     ]
    }
   ],
   "source": [
    "# Linear Regression\n",
    "lr = LinearRegression()\n",
    "lr.fit(train_model_df, target_df)\n",
    "lr_metrics = cross_val_score(lr, train_model_df, target_df, cv = 5, scoring = 'neg_mean_squared_error')\n",
    "lr_mse = -1 * lr_metrics.mean()\n",
    "lr_std = lr_metrics.std()\n",
    "\n",
    "print('Model:', lr)\n",
    "print('\\nAverage MSE:', lr_mse)\n",
    "print('\\nStandard Deviation during cross-validation:', lr_std)"
   ]
  },
  {
   "cell_type": "code",
   "execution_count": 51,
   "metadata": {
    "ExecuteTime": {
     "end_time": "2020-06-25T19:38:43.826546Z",
     "start_time": "2020-06-25T19:01:46.301224Z"
    }
   },
   "outputs": [
    {
     "name": "stderr",
     "output_type": "stream",
     "text": [
      "C:\\Users\\oscar\\anaconda3\\lib\\site-packages\\sklearn\\model_selection\\_validation.py:515: DataConversionWarning: A column-vector y was passed when a 1d array was expected. Please change the shape of y to (n_samples,), for example using ravel().\n",
      "  estimator.fit(X_train, y_train, **fit_params)\n",
      "[Parallel(n_jobs=-1)]: Using backend LokyBackend with 4 concurrent workers.\n",
      "[Parallel(n_jobs=-1)]: Done  42 tasks      | elapsed:  2.9min\n",
      "[Parallel(n_jobs=-1)]: Done 100 out of 100 | elapsed:  6.9min finished\n",
      "[Parallel(n_jobs=4)]: Using backend ThreadingBackend with 4 concurrent workers.\n",
      "[Parallel(n_jobs=4)]: Done  42 tasks      | elapsed:    0.6s\n",
      "[Parallel(n_jobs=4)]: Done 100 out of 100 | elapsed:    1.5s finished\n",
      "C:\\Users\\oscar\\anaconda3\\lib\\site-packages\\sklearn\\model_selection\\_validation.py:515: DataConversionWarning: A column-vector y was passed when a 1d array was expected. Please change the shape of y to (n_samples,), for example using ravel().\n",
      "  estimator.fit(X_train, y_train, **fit_params)\n",
      "[Parallel(n_jobs=-1)]: Using backend LokyBackend with 4 concurrent workers.\n",
      "[Parallel(n_jobs=-1)]: Done  42 tasks      | elapsed:  3.3min\n",
      "[Parallel(n_jobs=-1)]: Done 100 out of 100 | elapsed:  7.7min finished\n",
      "[Parallel(n_jobs=4)]: Using backend ThreadingBackend with 4 concurrent workers.\n",
      "[Parallel(n_jobs=4)]: Done  42 tasks      | elapsed:    0.6s\n",
      "[Parallel(n_jobs=4)]: Done 100 out of 100 | elapsed:    1.5s finished\n",
      "C:\\Users\\oscar\\anaconda3\\lib\\site-packages\\sklearn\\model_selection\\_validation.py:515: DataConversionWarning: A column-vector y was passed when a 1d array was expected. Please change the shape of y to (n_samples,), for example using ravel().\n",
      "  estimator.fit(X_train, y_train, **fit_params)\n",
      "[Parallel(n_jobs=-1)]: Using backend LokyBackend with 4 concurrent workers.\n",
      "[Parallel(n_jobs=-1)]: Done  42 tasks      | elapsed:  3.3min\n",
      "[Parallel(n_jobs=-1)]: Done 100 out of 100 | elapsed:  7.3min finished\n",
      "[Parallel(n_jobs=4)]: Using backend ThreadingBackend with 4 concurrent workers.\n",
      "[Parallel(n_jobs=4)]: Done  42 tasks      | elapsed:    0.6s\n",
      "[Parallel(n_jobs=4)]: Done 100 out of 100 | elapsed:    1.5s finished\n",
      "C:\\Users\\oscar\\anaconda3\\lib\\site-packages\\sklearn\\model_selection\\_validation.py:515: DataConversionWarning: A column-vector y was passed when a 1d array was expected. Please change the shape of y to (n_samples,), for example using ravel().\n",
      "  estimator.fit(X_train, y_train, **fit_params)\n",
      "[Parallel(n_jobs=-1)]: Using backend LokyBackend with 4 concurrent workers.\n",
      "[Parallel(n_jobs=-1)]: Done  42 tasks      | elapsed:  3.2min\n",
      "[Parallel(n_jobs=-1)]: Done 100 out of 100 | elapsed:  7.3min finished\n",
      "[Parallel(n_jobs=4)]: Using backend ThreadingBackend with 4 concurrent workers.\n",
      "[Parallel(n_jobs=4)]: Done  42 tasks      | elapsed:    0.8s\n",
      "[Parallel(n_jobs=4)]: Done 100 out of 100 | elapsed:    2.3s finished\n",
      "C:\\Users\\oscar\\anaconda3\\lib\\site-packages\\sklearn\\model_selection\\_validation.py:515: DataConversionWarning: A column-vector y was passed when a 1d array was expected. Please change the shape of y to (n_samples,), for example using ravel().\n",
      "  estimator.fit(X_train, y_train, **fit_params)\n",
      "[Parallel(n_jobs=-1)]: Using backend LokyBackend with 4 concurrent workers.\n",
      "[Parallel(n_jobs=-1)]: Done  42 tasks      | elapsed:  3.3min\n",
      "[Parallel(n_jobs=-1)]: Done 100 out of 100 | elapsed:  7.2min finished\n",
      "[Parallel(n_jobs=4)]: Using backend ThreadingBackend with 4 concurrent workers.\n",
      "[Parallel(n_jobs=4)]: Done  42 tasks      | elapsed:    0.5s\n"
     ]
    },
    {
     "name": "stdout",
     "output_type": "stream",
     "text": [
      "Model: RandomForestRegressor(bootstrap=True, ccp_alpha=0.0, criterion='mse',\n",
      "                      max_depth=10, max_features=30, max_leaf_nodes=None,\n",
      "                      max_samples=None, min_impurity_decrease=0.0,\n",
      "                      min_impurity_split=None, min_samples_leaf=1,\n",
      "                      min_samples_split=60, min_weight_fraction_leaf=0.0,\n",
      "                      n_estimators=100, n_jobs=-1, oob_score=False,\n",
      "                      random_state=None, verbose=1, warm_start=False)\n",
      "\n",
      "Average MSE: 444.66112407717037\n",
      "\n",
      "Standard Deviation during cross-validation: 1.6972080020648648\n"
     ]
    },
    {
     "name": "stderr",
     "output_type": "stream",
     "text": [
      "[Parallel(n_jobs=4)]: Done 100 out of 100 | elapsed:    1.3s finished\n"
     ]
    }
   ],
   "source": [
    "# Random Forest\n",
    "\n",
    "rf = RandomForestRegressor(n_estimators = 100, n_jobs = -1, max_depth = 10, max_features = 30, \n",
    "                           verbose = 0, min_samples_split = 60)\n",
    "rf_metrics = cross_val_score(rf, train_model_df, target_df, cv = 5, scoring = 'neg_mean_squared_error')\n",
    "rf_mse = -1 * rf_metrics.mean()\n",
    "rf_std = rf_metrics.std()\n",
    "\n",
    "print('Model:', rf)\n",
    "print('\\nAverage MSE:', rf_mse)\n",
    "print('\\nStandard Deviation during cross-validation:', rf_std)\n",
    "\n",
    "#37 minute run time"
   ]
  },
  {
   "cell_type": "code",
   "execution_count": 54,
   "metadata": {
    "ExecuteTime": {
     "end_time": "2020-06-25T22:31:42.605428Z",
     "start_time": "2020-06-25T19:48:03.061502Z"
    }
   },
   "outputs": [
    {
     "name": "stderr",
     "output_type": "stream",
     "text": [
      "C:\\Users\\oscar\\anaconda3\\lib\\site-packages\\sklearn\\ensemble\\_gb.py:1454: DataConversionWarning: A column-vector y was passed when a 1d array was expected. Please change the shape of y to (n_samples, ), for example using ravel().\n",
      "  y = column_or_1d(y, warn=True)\n"
     ]
    },
    {
     "name": "stdout",
     "output_type": "stream",
     "text": [
      "      Iter       Train Loss   Remaining Time \n",
      "         1        1351.2830           33.42m\n",
      "         2        1229.8976           33.49m\n",
      "         3        1129.7084           33.34m\n",
      "         4        1045.3752           32.77m\n",
      "         5         974.4283           32.26m\n",
      "         6         914.9446           32.30m\n",
      "         7         862.6779           31.94m\n",
      "         8         814.8460           31.45m\n",
      "         9         772.9795           31.15m\n",
      "        10         737.2014           30.77m\n",
      "        20         519.7989           27.52m\n",
      "        30         434.7553           24.57m\n",
      "        40         397.1956           22.36m\n",
      "        50         379.5808           18.39m\n",
      "        60         370.1295           14.59m\n",
      "        70         364.8456           10.87m\n",
      "        80         361.7159            7.18m\n",
      "        90         359.4911            3.62m\n",
      "       100         357.9892            0.00s\n"
     ]
    },
    {
     "name": "stderr",
     "output_type": "stream",
     "text": [
      "C:\\Users\\oscar\\anaconda3\\lib\\site-packages\\sklearn\\ensemble\\_gb.py:1454: DataConversionWarning: A column-vector y was passed when a 1d array was expected. Please change the shape of y to (n_samples, ), for example using ravel().\n",
      "  y = column_or_1d(y, warn=True)\n"
     ]
    },
    {
     "name": "stdout",
     "output_type": "stream",
     "text": [
      "      Iter       Train Loss   Remaining Time \n",
      "         1        1350.3283           37.39m\n",
      "         2        1228.9813           36.16m\n",
      "         3        1128.6850           32.38m\n",
      "         4        1044.3647           30.48m\n",
      "         5         973.6024           29.18m\n",
      "         6         913.1841           28.46m\n",
      "         7         861.4560           28.89m\n",
      "         8         813.6768           28.47m\n",
      "         9         772.4512           27.89m\n",
      "        10         735.5325           27.40m\n",
      "        20         520.5385           21.44m\n",
      "        30         434.8762           17.70m\n",
      "        40         397.7779           14.83m\n",
      "        50         379.3298           12.17m\n",
      "        60         369.5591            9.69m\n",
      "        70         364.4048            7.23m\n",
      "        80         361.2684            4.80m\n",
      "        90         359.1217            2.39m\n",
      "       100         357.7150            0.00s\n"
     ]
    },
    {
     "name": "stderr",
     "output_type": "stream",
     "text": [
      "C:\\Users\\oscar\\anaconda3\\lib\\site-packages\\sklearn\\ensemble\\_gb.py:1454: DataConversionWarning: A column-vector y was passed when a 1d array was expected. Please change the shape of y to (n_samples, ), for example using ravel().\n",
      "  y = column_or_1d(y, warn=True)\n"
     ]
    },
    {
     "name": "stdout",
     "output_type": "stream",
     "text": [
      "      Iter       Train Loss   Remaining Time \n",
      "         1        1352.5019           21.37m\n",
      "         2        1230.9775           21.92m\n",
      "         3        1130.7106           21.65m\n",
      "         4        1046.4267           21.64m\n",
      "         5         975.3559           21.23m\n",
      "         6         915.4574           20.86m\n",
      "         7         862.4003           20.67m\n",
      "         8         814.1659           20.33m\n",
      "         9         772.8922           20.08m\n",
      "        10         737.2416           19.85m\n",
      "        20         518.8107           18.12m\n",
      "        30         435.4655           16.00m\n",
      "        40         397.0731           14.84m\n",
      "        50         378.7453           12.79m\n",
      "        60         369.4707           10.37m\n",
      "        70         364.1729            7.61m\n",
      "        80         360.7789            5.03m\n",
      "        90         358.8460            2.50m\n",
      "       100         357.4766            0.00s\n"
     ]
    },
    {
     "name": "stderr",
     "output_type": "stream",
     "text": [
      "C:\\Users\\oscar\\anaconda3\\lib\\site-packages\\sklearn\\ensemble\\_gb.py:1454: DataConversionWarning: A column-vector y was passed when a 1d array was expected. Please change the shape of y to (n_samples, ), for example using ravel().\n",
      "  y = column_or_1d(y, warn=True)\n"
     ]
    },
    {
     "name": "stdout",
     "output_type": "stream",
     "text": [
      "      Iter       Train Loss   Remaining Time \n",
      "         1        1352.2186           31.80m\n",
      "         2        1230.7235           30.70m\n",
      "         3        1130.4498           31.32m\n",
      "         4        1045.8732           29.12m\n",
      "         5         975.0442           27.99m\n",
      "         6         915.5045           26.88m\n",
      "         7         862.9738           25.67m\n",
      "         8         815.4630           25.02m\n",
      "         9         773.5157           24.29m\n",
      "        10         737.9879           23.81m\n",
      "        20         519.8803           19.56m\n",
      "        30         434.5512           16.62m\n",
      "        40         397.4351           14.38m\n",
      "        50         379.5044           11.89m\n",
      "        60         370.1977            9.45m\n",
      "        70         365.1090            7.12m\n",
      "        80         361.9323            4.74m\n",
      "        90         360.0561            2.40m\n",
      "       100         358.1965            0.00s\n"
     ]
    },
    {
     "name": "stderr",
     "output_type": "stream",
     "text": [
      "C:\\Users\\oscar\\anaconda3\\lib\\site-packages\\sklearn\\ensemble\\_gb.py:1454: DataConversionWarning: A column-vector y was passed when a 1d array was expected. Please change the shape of y to (n_samples, ), for example using ravel().\n",
      "  y = column_or_1d(y, warn=True)\n"
     ]
    },
    {
     "name": "stdout",
     "output_type": "stream",
     "text": [
      "      Iter       Train Loss   Remaining Time \n",
      "         1        1350.0978           26.88m\n",
      "         2        1228.7688           26.95m\n",
      "         3        1128.4796           25.52m\n",
      "         4        1044.6516           24.48m\n",
      "         5         973.5013           23.81m\n",
      "         6         913.7261           23.70m\n",
      "         7         861.3998           23.53m\n",
      "         8         813.5867           23.12m\n",
      "         9         772.1274           22.64m\n",
      "        10         736.7545           22.40m\n",
      "        20         519.7571           20.05m\n",
      "        30         435.2657           17.77m\n",
      "        40         397.7346           15.18m\n",
      "        50         379.6333           12.63m\n",
      "        60         370.5804           10.09m\n",
      "        70         365.0345            7.55m\n",
      "        80         361.8328            5.06m\n",
      "        90         359.3690            2.53m\n",
      "       100         357.8239            0.00s\n"
     ]
    },
    {
     "name": "stderr",
     "output_type": "stream",
     "text": [
      "C:\\Users\\oscar\\anaconda3\\lib\\site-packages\\sklearn\\ensemble\\_gb.py:1454: DataConversionWarning: A column-vector y was passed when a 1d array was expected. Please change the shape of y to (n_samples, ), for example using ravel().\n",
      "  y = column_or_1d(y, warn=True)\n"
     ]
    },
    {
     "name": "stdout",
     "output_type": "stream",
     "text": [
      "      Iter       Train Loss   Remaining Time \n",
      "         1        1351.2464           24.82m\n",
      "         2        1229.9639           24.46m\n",
      "         3        1129.6760           24.37m\n",
      "         4        1045.1662           24.04m\n",
      "         5         974.5342           24.11m\n",
      "         6         914.6902           23.80m\n",
      "         7         861.4287           23.23m\n",
      "         8         813.3305           22.69m\n",
      "         9         772.1332           22.18m\n",
      "        10         736.5279           21.94m\n",
      "        20         521.4867           19.51m\n",
      "        30         435.2520           17.09m\n",
      "        40         397.4543           15.68m\n",
      "        50         378.7848           13.50m\n",
      "        60         369.7803           11.04m\n",
      "        70         364.4285            8.25m\n",
      "        80         361.3513            5.61m\n",
      "        90         359.0871            2.79m\n",
      "       100         357.5594            0.00s\n",
      "Model: GradientBoostingRegressor(alpha=0.9, ccp_alpha=0.0, criterion='friedman_mse',\n",
      "                          init=None, learning_rate=0.1, loss='ls', max_depth=5,\n",
      "                          max_features=None, max_leaf_nodes=None,\n",
      "                          min_impurity_decrease=0.0, min_impurity_split=None,\n",
      "                          min_samples_leaf=1, min_samples_split=2,\n",
      "                          min_weight_fraction_leaf=0.0, n_estimators=100,\n",
      "                          n_iter_no_change=None, presort='deprecated',\n",
      "                          random_state=None, subsample=1.0, tol=0.0001,\n",
      "                          validation_fraction=0.1, verbose=1, warm_start=False)\n",
      "\n",
      "Average MSE: 359.46830664093517\n",
      "\n",
      "Standard Deviation during cross-validation: 0.8358533316301225\n"
     ]
    }
   ],
   "source": [
    "#Gradient Boosting\n",
    "\n",
    "gb = GradientBoostingRegressor(n_estimators = 100, max_depth = 5, loss = 'ls', learning_rate = 0.1, verbose = 1)\n",
    "gb.fit(train_model_df, target_df)\n",
    "gb_metrics = cross_val_score(gb, train_model_df, target_df, cv = 5, scoring = 'neg_mean_squared_error')\n",
    "gb_mse = -1 * gb_metrics.mean()\n",
    "gb_std = gb_metrics.std()\n",
    "\n",
    "print('Model:', gb)\n",
    "print('\\nAverage MSE:', gb_mse)\n",
    "print('\\nStandard Deviation during cross-validation:', gb_std)\n",
    "\n",
    "# Run time = 2 hours, 43 min"
   ]
  },
  {
   "cell_type": "code",
   "execution_count": 64,
   "metadata": {
    "ExecuteTime": {
     "end_time": "2020-06-25T22:44:48.685000Z",
     "start_time": "2020-06-25T22:44:48.540310Z"
    }
   },
   "outputs": [
    {
     "data": {
      "text/plain": [
       "Index(['company_id_COMP0', 'company_id_COMP1', 'company_id_COMP10',\n",
       "       'company_id_COMP11', 'company_id_COMP12', 'company_id_COMP13',\n",
       "       'company_id_COMP14', 'company_id_COMP15', 'company_id_COMP16',\n",
       "       'company_id_COMP17', 'company_id_COMP18', 'company_id_COMP19',\n",
       "       'company_id_COMP2', 'company_id_COMP20', 'company_id_COMP21',\n",
       "       'company_id_COMP22', 'company_id_COMP23', 'company_id_COMP24',\n",
       "       'company_id_COMP25', 'company_id_COMP26', 'company_id_COMP27',\n",
       "       'company_id_COMP28', 'company_id_COMP29', 'company_id_COMP3',\n",
       "       'company_id_COMP30', 'company_id_COMP31', 'company_id_COMP32',\n",
       "       'company_id_COMP33', 'company_id_COMP34', 'company_id_COMP35',\n",
       "       'company_id_COMP36', 'company_id_COMP37', 'company_id_COMP38',\n",
       "       'company_id_COMP39', 'company_id_COMP4', 'company_id_COMP40',\n",
       "       'company_id_COMP41', 'company_id_COMP42', 'company_id_COMP43',\n",
       "       'company_id_COMP44', 'company_id_COMP45', 'company_id_COMP46',\n",
       "       'company_id_COMP47', 'company_id_COMP48', 'company_id_COMP49',\n",
       "       'company_id_COMP5', 'company_id_COMP50', 'company_id_COMP51',\n",
       "       'company_id_COMP52', 'company_id_COMP53', 'company_id_COMP54',\n",
       "       'company_id_COMP55', 'company_id_COMP56', 'company_id_COMP57',\n",
       "       'company_id_COMP58', 'company_id_COMP59', 'company_id_COMP6',\n",
       "       'company_id_COMP60', 'company_id_COMP61', 'company_id_COMP62',\n",
       "       'company_id_COMP7', 'company_id_COMP8', 'company_id_COMP9',\n",
       "       'job_type_CEO', 'job_type_CFO', 'job_type_CTO', 'job_type_JANITOR',\n",
       "       'job_type_JUNIOR', 'job_type_MANAGER', 'job_type_SENIOR',\n",
       "       'job_type_VICE_PRESIDENT', 'degree_BACHELORS', 'degree_DOCTORAL',\n",
       "       'degree_HIGH_SCHOOL', 'degree_MASTERS', 'degree_NONE', 'major_BIOLOGY',\n",
       "       'major_BUSINESS', 'major_CHEMISTRY', 'major_COMPSCI',\n",
       "       'major_ENGINEERING', 'major_LITERATURE', 'major_MATH', 'major_NONE',\n",
       "       'major_PHYSICS', 'industry_AUTO', 'industry_EDUCATION',\n",
       "       'industry_FINANCE', 'industry_HEALTH', 'industry_OIL',\n",
       "       'industry_SERVICE', 'industry_WEB', 'years_experience',\n",
       "       'miles_from_metropolis'],\n",
       "      dtype='object')"
      ]
     },
     "execution_count": 64,
     "metadata": {},
     "output_type": "execute_result"
    }
   ],
   "source": [
    "model = gb\n",
    "model\n",
    "model.feature_importances_\n",
    "train_model_df.columns"
   ]
  },
  {
   "cell_type": "code",
   "execution_count": 67,
   "metadata": {
    "ExecuteTime": {
     "end_time": "2020-06-25T22:47:02.418210Z",
     "start_time": "2020-06-25T22:46:57.282451Z"
    }
   },
   "outputs": [
    {
     "data": {
      "text/plain": [
       "<matplotlib.axes._subplots.AxesSubplot at 0x2c92ded4d88>"
      ]
     },
     "execution_count": 67,
     "metadata": {},
     "output_type": "execute_result"
    },
    {
     "data": {
      "image/png": "[encoded data removed]",
      "text/plain": [
       "<Figure size 864x432 with 1 Axes>"
      ]
     },
     "metadata": {
      "needs_background": "light"
     },
     "output_type": "display_data"
    }
   ],
   "source": [
    "feature_importances = pd.Series(model.feature_importances_, index = train_model_df.columns)\n",
    "feature_importances.nlargest(20).plot(kind = 'bar', figsize = (12, 6))"
   ]
  },
  {
   "cell_type": "markdown",
   "metadata": {},
   "source": [
    "### ---- 10 Select best model  ----"
   ]
  },
  {
   "cell_type": "code",
   "execution_count": 40,
   "metadata": {
    "ExecuteTime": {
     "end_time": "2020-06-25T18:33:57.985196Z",
     "start_time": "2020-06-25T18:33:57.897196Z"
    }
   },
   "outputs": [],
   "source": [
    "#select the model with the lowest error as your \"prodcuction\" model"
   ]
  },
  {
   "cell_type": "markdown",
   "metadata": {},
   "source": [
    "## Part 4 - DEPLOY"
   ]
  },
  {
   "cell_type": "markdown",
   "metadata": {},
   "source": [
    "### ---- 11 Automate pipeline ----"
   ]
  },
  {
   "cell_type": "code",
   "execution_count": 41,
   "metadata": {
    "ExecuteTime": {
     "end_time": "2020-06-25T18:33:58.081477Z",
     "start_time": "2020-06-25T18:33:57.985196Z"
    }
   },
   "outputs": [],
   "source": [
    "#write script that trains model on entire training set, saves model to disk,\n",
    "#and scores the \"test\" dataset"
   ]
  },
  {
   "cell_type": "markdown",
   "metadata": {},
   "source": [
    "### ---- 12 Deploy solution ----"
   ]
  },
  {
   "cell_type": "code",
   "execution_count": 42,
   "metadata": {
    "ExecuteTime": {
     "end_time": "2020-06-25T18:33:58.185500Z",
     "start_time": "2020-06-25T18:33:58.089476Z"
    }
   },
   "outputs": [],
   "source": [
    "#save your prediction to a csv file or optionally save them as a table in a SQL database\n",
    "#additionally, you want to save a visualization and summary of your prediction and feature importances\n",
    "#these visualizations and summaries will be extremely useful to business stakeholders"
   ]
  }
 ],
 "metadata": {
  "kernelspec": {
   "display_name": "Python 3",
   "language": "python",
   "name": "python3"
  },
  "language_info": {
   "codemirror_mode": {
    "name": "ipython",
    "version": 3
   },
   "file_extension": ".py",
   "mimetype": "text/x-python",
   "name": "python",
   "nbconvert_exporter": "python",
   "pygments_lexer": "ipython3",
   "version": "3.7.6"
  },
  "toc": {
   "base_numbering": 1,
   "nav_menu": {},
   "number_sections": true,
   "sideBar": true,
   "skip_h1_title": false,
   "title_cell": "Table of Contents",
   "title_sidebar": "Contents",
   "toc_cell": false,
   "toc_position": {},
   "toc_section_display": true,
   "toc_window_display": false
  },
  "varInspector": {
   "cols": {
    "lenName": 16,
    "lenType": 16,
    "lenVar": 40
   },
   "kernels_config": {
    "python": {
     "delete_cmd_postfix": "",
     "delete_cmd_prefix": "del ",
     "library": "var_list.py",
     "varRefreshCmd": "print(var_dic_list())"
    },
    "r": {
     "delete_cmd_postfix": ") ",
     "delete_cmd_prefix": "rm(",
     "library": "var_list.r",
     "varRefreshCmd": "cat(var_dic_list()) "
    }
   },
   "types_to_exclude": [
    "module",
    "function",
    "builtin_function_or_method",
    "instance",
    "_Feature"
   ],
   "window_display": false
  }
 },
 "nbformat": 4,
 "nbformat_minor": 2
}
